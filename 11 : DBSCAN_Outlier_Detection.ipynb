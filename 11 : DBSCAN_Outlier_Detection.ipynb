{
  "nbformat": 4,
  "nbformat_minor": 0,
  "metadata": {
    "colab": {
      "name": "10: DBSCAN_Outlier_Detection.ipynb",
      "provenance": [],
      "collapsed_sections": [],
      "authorship_tag": "ABX9TyOaLtXNi22oLEBMIzBNDdcf",
      "include_colab_link": true
    },
    "kernelspec": {
      "name": "python3",
      "display_name": "Python 3"
    }
  },
  "cells": [
    {
      "cell_type": "markdown",
      "metadata": {
        "id": "view-in-github",
        "colab_type": "text"
      },
      "source": [
        "<a href=\"https://colab.research.google.com/github/gulabpatel/Anomaly_Detection_Python/blob/main/10%3A%20DBSCAN_Outlier_Detection.ipynb\" target=\"_parent\"><img src=\"https://colab.research.google.com/assets/colab-badge.svg\" alt=\"Open In Colab\"/></a>"
      ]
    },
    {
      "cell_type": "markdown",
      "metadata": {
        "id": "bgKd8PUCxZsm"
      },
      "source": [
        "# DBSCAN Clustering\n"
      ]
    },
    {
      "cell_type": "markdown",
      "metadata": {
        "id": "9RpOYUPyxvqU"
      },
      "source": [
        "DBSCAN Advantage - \n",
        "* great at sepearating clusters of high density versus clusters of low density\n",
        "* great with handling outliers within the dataset <br>\n",
        "\n",
        "Disadvantage - \n",
        "* doestn't work well with clusters of varying densities whereas it's great at seperating high density clusters from low density clusters. struggle with clusters of similar density data\n",
        "* struggles with high dimensionality \n",
        "\n",
        "\n",
        "--Supporting youtube vides https://www.youtube.com/watch?v=C3r7tGRe2eI"
      ]
    },
    {
      "cell_type": "markdown",
      "metadata": {
        "id": "64xeNxLQ6lu4"
      },
      "source": [
        "# Importing the libraries"
      ]
    },
    {
      "cell_type": "code",
      "metadata": {
        "id": "bwSYWy0UwtTk"
      },
      "source": [
        "import numpy as np\n",
        "import pandas as pd\n",
        "import matplotlib.pyplot as plt\n",
        "from collections import Counter\n",
        "from sklearn.cluster import DBSCAN\n",
        "from sklearn import metrics\n",
        "from pylab import rcParams\n",
        "rcParams['figure.figsize'] = 14, 6"
      ],
      "execution_count": 1,
      "outputs": []
    },
    {
      "cell_type": "code",
      "metadata": {
        "colab": {
          "base_uri": "https://localhost:8080/",
          "height": 359
        },
        "id": "-SbV4qXR8mjF",
        "outputId": "b9114c62-45dc-430f-f312-2ecc0892ea0c"
      },
      "source": [
        "df = pd.read_csv('https://raw.githubusercontent.com/gulabpatel/ML_Data_and_Resources/master/Mall_Customers.csv')\n",
        "df.sample(10)"
      ],
      "execution_count": 2,
      "outputs": [
        {
          "output_type": "execute_result",
          "data": {
            "text/html": [
              "<div>\n",
              "<style scoped>\n",
              "    .dataframe tbody tr th:only-of-type {\n",
              "        vertical-align: middle;\n",
              "    }\n",
              "\n",
              "    .dataframe tbody tr th {\n",
              "        vertical-align: top;\n",
              "    }\n",
              "\n",
              "    .dataframe thead th {\n",
              "        text-align: right;\n",
              "    }\n",
              "</style>\n",
              "<table border=\"1\" class=\"dataframe\">\n",
              "  <thead>\n",
              "    <tr style=\"text-align: right;\">\n",
              "      <th></th>\n",
              "      <th>CustomerID</th>\n",
              "      <th>Genre</th>\n",
              "      <th>Age</th>\n",
              "      <th>Annual Income (k$)</th>\n",
              "      <th>Spending Score (1-100)</th>\n",
              "    </tr>\n",
              "  </thead>\n",
              "  <tbody>\n",
              "    <tr>\n",
              "      <th>9</th>\n",
              "      <td>10</td>\n",
              "      <td>Female</td>\n",
              "      <td>30</td>\n",
              "      <td>19</td>\n",
              "      <td>72</td>\n",
              "    </tr>\n",
              "    <tr>\n",
              "      <th>80</th>\n",
              "      <td>81</td>\n",
              "      <td>Male</td>\n",
              "      <td>57</td>\n",
              "      <td>54</td>\n",
              "      <td>51</td>\n",
              "    </tr>\n",
              "    <tr>\n",
              "      <th>12</th>\n",
              "      <td>13</td>\n",
              "      <td>Female</td>\n",
              "      <td>58</td>\n",
              "      <td>20</td>\n",
              "      <td>15</td>\n",
              "    </tr>\n",
              "    <tr>\n",
              "      <th>133</th>\n",
              "      <td>134</td>\n",
              "      <td>Female</td>\n",
              "      <td>31</td>\n",
              "      <td>72</td>\n",
              "      <td>71</td>\n",
              "    </tr>\n",
              "    <tr>\n",
              "      <th>76</th>\n",
              "      <td>77</td>\n",
              "      <td>Female</td>\n",
              "      <td>45</td>\n",
              "      <td>54</td>\n",
              "      <td>53</td>\n",
              "    </tr>\n",
              "    <tr>\n",
              "      <th>197</th>\n",
              "      <td>198</td>\n",
              "      <td>Male</td>\n",
              "      <td>32</td>\n",
              "      <td>126</td>\n",
              "      <td>74</td>\n",
              "    </tr>\n",
              "    <tr>\n",
              "      <th>17</th>\n",
              "      <td>18</td>\n",
              "      <td>Male</td>\n",
              "      <td>20</td>\n",
              "      <td>21</td>\n",
              "      <td>66</td>\n",
              "    </tr>\n",
              "    <tr>\n",
              "      <th>58</th>\n",
              "      <td>59</td>\n",
              "      <td>Female</td>\n",
              "      <td>27</td>\n",
              "      <td>46</td>\n",
              "      <td>51</td>\n",
              "    </tr>\n",
              "    <tr>\n",
              "      <th>125</th>\n",
              "      <td>126</td>\n",
              "      <td>Female</td>\n",
              "      <td>31</td>\n",
              "      <td>70</td>\n",
              "      <td>77</td>\n",
              "    </tr>\n",
              "    <tr>\n",
              "      <th>173</th>\n",
              "      <td>174</td>\n",
              "      <td>Male</td>\n",
              "      <td>36</td>\n",
              "      <td>87</td>\n",
              "      <td>92</td>\n",
              "    </tr>\n",
              "  </tbody>\n",
              "</table>\n",
              "</div>"
            ],
            "text/plain": [
              "     CustomerID   Genre  Age  Annual Income (k$)  Spending Score (1-100)\n",
              "9            10  Female   30                  19                      72\n",
              "80           81    Male   57                  54                      51\n",
              "12           13  Female   58                  20                      15\n",
              "133         134  Female   31                  72                      71\n",
              "76           77  Female   45                  54                      53\n",
              "197         198    Male   32                 126                      74\n",
              "17           18    Male   20                  21                      66\n",
              "58           59  Female   27                  46                      51\n",
              "125         126  Female   31                  70                      77\n",
              "173         174    Male   36                  87                      92"
            ]
          },
          "metadata": {
            "tags": []
          },
          "execution_count": 2
        }
      ]
    },
    {
      "cell_type": "markdown",
      "metadata": {
        "id": "VP_6k0NnzWpL"
      },
      "source": [
        "Let's pick up Annual Income and Spending Score features for clustering"
      ]
    },
    {
      "cell_type": "code",
      "metadata": {
        "id": "9NVoCZu352d_",
        "colab": {
          "base_uri": "https://localhost:8080/"
        },
        "outputId": "1fdd94f8-b82a-4698-f94a-b118db2f19b7"
      },
      "source": [
        "df.info()"
      ],
      "execution_count": 3,
      "outputs": [
        {
          "output_type": "stream",
          "text": [
            "<class 'pandas.core.frame.DataFrame'>\n",
            "RangeIndex: 200 entries, 0 to 199\n",
            "Data columns (total 5 columns):\n",
            " #   Column                  Non-Null Count  Dtype \n",
            "---  ------                  --------------  ----- \n",
            " 0   CustomerID              200 non-null    int64 \n",
            " 1   Genre                   200 non-null    object\n",
            " 2   Age                     200 non-null    int64 \n",
            " 3   Annual Income (k$)      200 non-null    int64 \n",
            " 4   Spending Score (1-100)  200 non-null    int64 \n",
            "dtypes: int64(4), object(1)\n",
            "memory usage: 7.9+ KB\n"
          ],
          "name": "stdout"
        }
      ]
    },
    {
      "cell_type": "code",
      "metadata": {
        "id": "sMtuQClgAj9y",
        "colab": {
          "base_uri": "https://localhost:8080/",
          "height": 644
        },
        "outputId": "7f04b717-9b54-4579-a989-f0bd90c2d959"
      },
      "source": [
        "plt.figure(figsize=(15,10))\n",
        "plt.plot(df['Annual Income (k$)'], df['Spending Score (1-100)'],\n",
        "           marker = '.', linewidth=0, color='#128128')\n",
        "plt.grid(which='major', color='#cccccc', alpha = 0.45)\n",
        "plt.title('Annual Income and Spending Score', family='Arial', fontsize=20)\n",
        "plt.xlabel('Annual Income')\n",
        "plt.ylabel('Spending Score')\n",
        "plt.show()"
      ],
      "execution_count": 4,
      "outputs": [
        {
          "output_type": "stream",
          "text": [
            "findfont: Font family ['Arial'] not found. Falling back to DejaVu Sans.\n"
          ],
          "name": "stderr"
        },
        {
          "output_type": "display_data",
          "data": {
            "image/png": "[encoded data removed]",
            "text/plain": [
              "<Figure size 1080x720 with 1 Axes>"
            ]
          },
          "metadata": {
            "tags": [],
            "needs_background": "light"
          }
        }
      ]
    },
    {
      "cell_type": "code",
      "metadata": {
        "id": "JU9XVlWczMMp",
        "colab": {
          "base_uri": "https://localhost:8080/"
        },
        "outputId": "fdef9680-d63c-48a3-ff5c-5cd85bd408ee"
      },
      "source": [
        "X = df.iloc[:, [3, 4]].values\n",
        "X[0:10]"
      ],
      "execution_count": 5,
      "outputs": [
        {
          "output_type": "execute_result",
          "data": {
            "text/plain": [
              "array([[15, 39],\n",
              "       [15, 81],\n",
              "       [16,  6],\n",
              "       [16, 77],\n",
              "       [17, 40],\n",
              "       [17, 76],\n",
              "       [18,  6],\n",
              "       [18, 94],\n",
              "       [19,  3],\n",
              "       [19, 72]])"
            ]
          },
          "metadata": {
            "tags": []
          },
          "execution_count": 5
        }
      ]
    },
    {
      "cell_type": "markdown",
      "metadata": {
        "id": "nQl4RDJE0KX5"
      },
      "source": [
        "#Apply DBSCAN Algorithm"
      ]
    },
    {
      "cell_type": "code",
      "metadata": {
        "id": "gnSFI8Arzmwu"
      },
      "source": [
        "from sklearn.cluster import DBSCAN"
      ],
      "execution_count": 6,
      "outputs": []
    },
    {
      "cell_type": "code",
      "metadata": {
        "id": "ZaarXNoy0PqP"
      },
      "source": [
        "dbscan = DBSCAN(eps=3, min_samples=4)"
      ],
      "execution_count": 7,
      "outputs": []
    },
    {
      "cell_type": "markdown",
      "metadata": {
        "id": "j1SMEbFP0cti"
      },
      "source": [
        "# Fitting the model"
      ]
    },
    {
      "cell_type": "code",
      "metadata": {
        "id": "e94Hf_FP0ZV9",
        "colab": {
          "base_uri": "https://localhost:8080/"
        },
        "outputId": "1a9a9ee8-6c28-41f5-8202-2e4a892bf8d4"
      },
      "source": [
        "model = dbscan.fit(X)\n",
        "model"
      ],
      "execution_count": 8,
      "outputs": [
        {
          "output_type": "execute_result",
          "data": {
            "text/plain": [
              "DBSCAN(algorithm='auto', eps=3, leaf_size=30, metric='euclidean',\n",
              "       metric_params=None, min_samples=4, n_jobs=None, p=None)"
            ]
          },
          "metadata": {
            "tags": []
          },
          "execution_count": 8
        }
      ]
    },
    {
      "cell_type": "code",
      "metadata": {
        "id": "Y9IGWLxf0h8c",
        "colab": {
          "base_uri": "https://localhost:8080/"
        },
        "outputId": "2377b607-d516-4f57-a0b4-f31efbb9ac0a"
      },
      "source": [
        "labels = model.labels_\n",
        "labels"
      ],
      "execution_count": 9,
      "outputs": [
        {
          "output_type": "execute_result",
          "data": {
            "text/plain": [
              "array([-1, -1, -1, -1, -1, -1, -1, -1, -1, -1, -1, -1, -1, -1, -1, -1, -1,\n",
              "       -1, -1, -1, -1, -1, -1, -1, -1, -1, -1, -1, -1, -1, -1, -1, -1, -1,\n",
              "       -1, -1, -1, -1, -1, -1, -1, -1, -1, -1, -1, -1, -1, -1, -1, -1, -1,\n",
              "       -1, -1, -1, -1, -1,  0,  0,  0,  0, -1, -1,  0, -1,  0, -1,  0,  0,\n",
              "       -1,  0, -1, -1,  0, -1,  1,  1,  1,  1,  1,  1,  1,  1,  1,  1,  1,\n",
              "        1,  1,  1, -1,  2,  1,  2,  2,  2,  2,  2,  2,  2,  2,  2,  2,  2,\n",
              "        2,  2,  2,  2,  2,  2,  2,  2,  2,  2,  2,  2,  2,  2,  2,  3,  2,\n",
              "        3,  3, -1,  3, -1, -1,  4, -1, -1, -1,  4,  5,  4, -1,  4,  5, -1,\n",
              "        5,  4, -1,  4,  5, -1, -1,  6, -1, -1, -1,  7, -1,  6, -1,  6, -1,\n",
              "        7, -1,  6, -1,  7, -1,  7, -1, -1, -1, -1, -1, -1, -1, -1, -1, -1,\n",
              "        8, -1,  8, -1,  8, -1,  8, -1, -1, -1, -1, -1, -1, -1, -1, -1, -1,\n",
              "       -1, -1, -1, -1, -1, -1, -1, -1, -1, -1, -1, -1, -1])"
            ]
          },
          "metadata": {
            "tags": []
          },
          "execution_count": 9
        }
      ]
    },
    {
      "cell_type": "markdown",
      "metadata": {
        "id": "h5GuajsK0uab"
      },
      "source": [
        "* -ve points represents the outliers they do not fall under any cluster\n",
        "* others denote the cluster 0th, 1th, 2th,...8th cluster"
      ]
    },
    {
      "cell_type": "markdown",
      "metadata": {
        "id": "MzJptZzD4tqG"
      },
      "source": [
        "#Visualize results\n",
        "\n",
        "Seperate outliers from clusters data"
      ]
    },
    {
      "cell_type": "code",
      "metadata": {
        "id": "-GURkwqT4xaX"
      },
      "source": [
        "outliers_df = df[model.labels_== -1] #-1 stands for outlier\n",
        "clusters_df = df[model.labels_ !=-1]"
      ],
      "execution_count": 10,
      "outputs": []
    },
    {
      "cell_type": "code",
      "metadata": {
        "id": "EhUxrlKm4x0s",
        "colab": {
          "base_uri": "https://localhost:8080/"
        },
        "outputId": "6633188f-2230-4f03-e1b7-fae3e1cc0eb5"
      },
      "source": [
        "outliers_df.info()"
      ],
      "execution_count": 11,
      "outputs": [
        {
          "output_type": "stream",
          "text": [
            "<class 'pandas.core.frame.DataFrame'>\n",
            "Int64Index: 121 entries, 0 to 199\n",
            "Data columns (total 5 columns):\n",
            " #   Column                  Non-Null Count  Dtype \n",
            "---  ------                  --------------  ----- \n",
            " 0   CustomerID              121 non-null    int64 \n",
            " 1   Genre                   121 non-null    object\n",
            " 2   Age                     121 non-null    int64 \n",
            " 3   Annual Income (k$)      121 non-null    int64 \n",
            " 4   Spending Score (1-100)  121 non-null    int64 \n",
            "dtypes: int64(4), object(1)\n",
            "memory usage: 5.7+ KB\n"
          ],
          "name": "stdout"
        }
      ]
    },
    {
      "cell_type": "code",
      "metadata": {
        "id": "G4KFeIPr5cze",
        "colab": {
          "base_uri": "https://localhost:8080/"
        },
        "outputId": "e04384bd-e82d-4999-89f0-490ddcef896e"
      },
      "source": [
        "clusters_df.info()"
      ],
      "execution_count": 12,
      "outputs": [
        {
          "output_type": "stream",
          "text": [
            "<class 'pandas.core.frame.DataFrame'>\n",
            "Int64Index: 79 entries, 56 to 176\n",
            "Data columns (total 5 columns):\n",
            " #   Column                  Non-Null Count  Dtype \n",
            "---  ------                  --------------  ----- \n",
            " 0   CustomerID              79 non-null     int64 \n",
            " 1   Genre                   79 non-null     object\n",
            " 2   Age                     79 non-null     int64 \n",
            " 3   Annual Income (k$)      79 non-null     int64 \n",
            " 4   Spending Score (1-100)  79 non-null     int64 \n",
            "dtypes: int64(4), object(1)\n",
            "memory usage: 3.7+ KB\n"
          ],
          "name": "stdout"
        }
      ]
    },
    {
      "cell_type": "code",
      "metadata": {
        "id": "O6rUb-3p5SDI"
      },
      "source": [
        "colors = model.labels_\n",
        "colors_clusters = colors[colors != -1]\n",
        "colors_outliers = 'black' # for outliers set black color"
      ],
      "execution_count": 13,
      "outputs": []
    },
    {
      "cell_type": "markdown",
      "metadata": {
        "id": "ipMaE51v9ZZz"
      },
      "source": [
        "#core points, number of clusters"
      ]
    },
    {
      "cell_type": "code",
      "metadata": {
        "id": "IW4mrYK-7v4J",
        "colab": {
          "base_uri": "https://localhost:8080/"
        },
        "outputId": "908efa9c-2545-4fa8-f657-5eb631399419"
      },
      "source": [
        "#Get the info about clusters\n",
        "clusters = Counter(model.labels_)\n",
        "print(clusters)\n",
        "print(df[model.labels_ == -1].head(10))\n",
        "print('Number of clusters = {}'.format(len(clusters)-1))"
      ],
      "execution_count": 14,
      "outputs": [
        {
          "output_type": "stream",
          "text": [
            "Counter({-1: 121, 2: 28, 1: 15, 0: 10, 4: 6, 3: 4, 5: 4, 6: 4, 7: 4, 8: 4})\n",
            "   CustomerID   Genre  Age  Annual Income (k$)  Spending Score (1-100)\n",
            "0           1    Male   19                  15                      39\n",
            "1           2    Male   21                  15                      81\n",
            "2           3  Female   20                  16                       6\n",
            "3           4  Female   23                  16                      77\n",
            "4           5  Female   31                  17                      40\n",
            "5           6  Female   22                  17                      76\n",
            "6           7  Female   35                  18                       6\n",
            "7           8  Female   23                  18                      94\n",
            "8           9    Male   64                  19                       3\n",
            "9          10  Female   30                  19                      72\n",
            "Number of clusters = 9\n"
          ],
          "name": "stdout"
        }
      ]
    },
    {
      "cell_type": "markdown",
      "metadata": {
        "id": "_ZMStZEW9w9z"
      },
      "source": [
        "#Plot clusters and outliers"
      ]
    },
    {
      "cell_type": "code",
      "metadata": {
        "id": "NOOsKq8M-nvd",
        "colab": {
          "base_uri": "https://localhost:8080/"
        },
        "outputId": "a01ef46b-87e7-438b-9948-e1423ecce24a"
      },
      "source": [
        "df.columns"
      ],
      "execution_count": 15,
      "outputs": [
        {
          "output_type": "execute_result",
          "data": {
            "text/plain": [
              "Index(['CustomerID', 'Genre', 'Age', 'Annual Income (k$)',\n",
              "       'Spending Score (1-100)'],\n",
              "      dtype='object')"
            ]
          },
          "metadata": {
            "tags": []
          },
          "execution_count": 15
        }
      ]
    },
    {
      "cell_type": "code",
      "metadata": {
        "id": "JJFsg-XD9pWE",
        "colab": {
          "base_uri": "https://localhost:8080/",
          "height": 798
        },
        "outputId": "58230246-cb2c-49aa-8f1e-ba0305f43d22"
      },
      "source": [
        "fig = plt.figure(figsize=(15,10))\n",
        "ax = fig.add_axes([.1,.1,1,1])\n",
        "\n",
        "ax.scatter(clusters_df['Annual Income (k$)'], clusters_df['Spending Score (1-100)'],\n",
        "           c = colors_clusters, edgecolors='black', s=50)\n",
        "ax.scatter(outliers_df['Annual Income (k$)'], outliers_df['Spending Score (1-100)'],\n",
        "           c = colors_outliers, edgecolors='black', s=50)\n",
        "\n",
        "ax.set_xlabel('Annual Income (k$)', family='Arial', fontsize=10)\n",
        "ax.set_ylabel('Spending Score (1-100)', family='Arial', fontsize=10) \n",
        "\n",
        "plt.title('Annual Income by DBSCAN algorithm', family='Arial', fontsize=12)\n",
        "\n",
        "plt.grid(which='major', color='#cccccc', alpha = 0.45)\n",
        "plt.show()"
      ],
      "execution_count": 18,
      "outputs": [
        {
          "output_type": "display_data",
          "data": {
            "image/png": "[encoded data removed]",
            "text/plain": [
              "<Figure size 1080x720 with 1 Axes>"
            ]
          },
          "metadata": {
            "tags": [],
            "needs_background": "light"
          }
        }
      ]
    },
    {
      "cell_type": "code",
      "metadata": {
        "id": "IDjsxBuX2V9Y",
        "colab": {
          "base_uri": "https://localhost:8080/"
        },
        "outputId": "805b81c8-0399-4dea-9800-f41293c89845"
      },
      "source": [
        "print(metrics.silhouette_score(X,labels))"
      ],
      "execution_count": 19,
      "outputs": [
        {
          "output_type": "stream",
          "text": [
            "-0.1908319132560097\n"
          ],
          "name": "stdout"
        }
      ]
    },
    {
      "cell_type": "code",
      "metadata": {
        "id": "op1rUhCwpItd"
      },
      "source": [
        ""
      ],
      "execution_count": null,
      "outputs": []
    }
  ]
}
