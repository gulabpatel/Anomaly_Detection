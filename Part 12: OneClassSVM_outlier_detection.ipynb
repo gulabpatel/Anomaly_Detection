{
  "nbformat": 4,
  "nbformat_minor": 0,
  "metadata": {
    "colab": {
      "name": "Part 12: OneClassSVM_outlier_detection.ipynb",
      "provenance": [],
      "authorship_tag": "ABX9TyMwjKHbQohGqB+ZsUe6Y5KO",
      "include_colab_link": true
    },
    "kernelspec": {
      "name": "python3",
      "display_name": "Python 3"
    },
    "language_info": {
      "name": "python"
    }
  },
  "cells": [
    {
      "cell_type": "markdown",
      "metadata": {
        "id": "view-in-github",
        "colab_type": "text"
      },
      "source": [
        "<a href=\"https://colab.research.google.com/github/gulabpatel/Anomaly_Detection_Python/blob/main/Part%2012%3A%20OneClassSVM_outlier_detection.ipynb\" target=\"_parent\"><img src=\"https://colab.research.google.com/assets/colab-badge.svg\" alt=\"Open In Colab\"/></a>"
      ]
    },
    {
      "cell_type": "markdown",
      "metadata": {
        "id": "nHoQB-eejNms"
      },
      "source": [
        "Introduction to anomaly detection : https://www.youtube.com/watch?v=0dngOGhv5Mc\n",
        "\n",
        "Sklearn documention : https://scikit-learn.org/stable/modules/generated/sklearn.svm.OneClassSVM.html\n",
        "\n",
        "Model comparison : https://scikit-learn.org/stable/auto_examples/miscellaneous/plot_anomaly_comparison.html\n",
        "\n",
        "One-Class Classification Algorithms for Imbalanced Datasets : https://machinelearningmastery.com/one-class-classification-algorithms/"
      ]
    },
    {
      "cell_type": "markdown",
      "metadata": {
        "id": "GQeEXbJcy2Pm"
      },
      "source": [
        "------------------------------------"
      ]
    },
    {
      "cell_type": "markdown",
      "metadata": {
        "id": "aPCp4DKc0YCE"
      },
      "source": [
        "This notebook is divided into five parts; they are:\n",
        "\n",
        "* One-Class Classification for Imbalanced Data\n",
        "* One-Class Support Vector Machines\n",
        "* Isolation Forest\n",
        "* Minimum Covariance Determinant\n",
        "* Local Outlier Factor"
      ]
    },
    {
      "cell_type": "code",
      "metadata": {
        "colab": {
          "base_uri": "https://localhost:8080/",
          "height": 283
        },
        "id": "-74dLCVWo2HJ",
        "outputId": "7e3c3e75-6216-4aca-8624-46e7ea983e7b"
      },
      "source": [
        "# Generate and plot a synthetic imbalanced classification dataset\n",
        "from collections import Counter\n",
        "from sklearn.datasets import make_classification\n",
        "from matplotlib import pyplot\n",
        "from numpy import where\n",
        "# define dataset\n",
        "X, y = make_classification(n_samples=10000, n_features=2, n_redundant=0,\n",
        "\tn_clusters_per_class=1, weights=[0.999], flip_y=0, random_state=4)\n",
        "# summarize class distribution\n",
        "counter = Counter(y)\n",
        "print(counter)\n",
        "# scatter plot of examples by class label\n",
        "for label, _ in counter.items():\n",
        "\trow_ix = where(y == label)[0]\n",
        "\tpyplot.scatter(X[row_ix, 0], X[row_ix, 1], label=str(label))\n",
        "pyplot.legend()\n",
        "pyplot.show()"
      ],
      "execution_count": null,
      "outputs": [
        {
          "output_type": "stream",
          "text": [
            "Counter({0: 9990, 1: 10})\n"
          ],
          "name": "stdout"
        },
        {
          "output_type": "display_data",
          "data": {
            "image/png": "[encoded data removed]",
            "text/plain": [
              "<Figure size 432x288 with 1 Axes>"
            ]
          },
          "metadata": {
            "tags": [],
            "needs_background": "light"
          }
        }
      ]
    },
    {
      "cell_type": "markdown",
      "metadata": {
        "id": "y0ef3Xw2y4FL"
      },
      "source": [
        "------------------------------------------"
      ]
    },
    {
      "cell_type": "code",
      "metadata": {
        "colab": {
          "base_uri": "https://localhost:8080/"
        },
        "id": "0i-9zxj7vBKz",
        "outputId": "e6f2de7b-6b1a-43c7-d89a-4e979085f4f0"
      },
      "source": [
        "# one-class svm for imbalanced binary classification\n",
        "from sklearn.datasets import make_classification\n",
        "from sklearn.model_selection import train_test_split\n",
        "from sklearn.metrics import f1_score\n",
        "from sklearn.svm import OneClassSVM\n",
        "# generate dataset\n",
        "X, y = make_classification(n_samples=10000, n_features=2, n_redundant=0,\n",
        "\tn_clusters_per_class=1, weights=[0.999], flip_y=0, random_state=4)\n",
        "print('X : ', X[0:10])\n",
        "print('Y : ', y[0:10])\n",
        "# split into train/test sets\n",
        "trainX, testX, trainy, testy = train_test_split(X, y, test_size=0.5, random_state=2, stratify=y)\n",
        "# define outlier detection model\n",
        "model = OneClassSVM(gamma='scale', nu=0.01)\n",
        "# fit on majority class\n",
        "trainX = trainX[trainy==0]\n",
        "model.fit(trainX)\n",
        "# detect outliers in the test set\n",
        "yhat = model.predict(testX)\n",
        "# mark inliers 1, outliers -1\n",
        "testy[testy == 1] = -1\n",
        "testy[testy == 0] = 1\n",
        "# calculate score\n",
        "score = f1_score(testy, yhat, pos_label=-1)\n",
        "print('F1 Score: %.3f' % score)"
      ],
      "execution_count": null,
      "outputs": [
        {
          "output_type": "stream",
          "text": [
            "X :  [[-1.41378978 -1.09433986]\n",
            " [-1.1785108  -1.58251586]\n",
            " [-1.97507026 -1.85349255]\n",
            " [-1.10016381 -0.9425003 ]\n",
            " [-1.31201659 -0.66553057]\n",
            " [-0.56950885 -0.56403854]\n",
            " [-1.44553138 -1.20509236]\n",
            " [-1.2205972  -0.39407647]\n",
            " [-0.17368382  0.0596736 ]\n",
            " [-0.83051465 -1.23858841]]\n",
            "Y :  [0 0 0 0 0 0 0 0 0 0]\n",
            "F1 Score: 0.123\n"
          ],
          "name": "stdout"
        }
      ]
    },
    {
      "cell_type": "markdown",
      "metadata": {
        "id": "huOuNys7y5Qe"
      },
      "source": [
        "-------------------------------------"
      ]
    },
    {
      "cell_type": "code",
      "metadata": {
        "colab": {
          "base_uri": "https://localhost:8080/"
        },
        "id": "JgaAIaM8xzkO",
        "outputId": "760f18d3-af86-484e-8a90-7a9e082c0b85"
      },
      "source": [
        "# isolation forest for imbalanced classification\n",
        "from sklearn.datasets import make_classification\n",
        "from sklearn.model_selection import train_test_split\n",
        "from sklearn.metrics import f1_score\n",
        "from sklearn.ensemble import IsolationForest\n",
        "# generate dataset\n",
        "X, y = make_classification(n_samples=10000, n_features=2, n_redundant=0,\n",
        "\tn_clusters_per_class=1, weights=[0.999], flip_y=0, random_state=4)\n",
        "# split into train/test sets\n",
        "trainX, testX, trainy, testy = train_test_split(X, y, test_size=0.5, random_state=2, stratify=y)\n",
        "# define outlier detection model\n",
        "model = IsolationForest(contamination=0.01, behaviour='new')\n",
        "# fit on majority class\n",
        "trainX = trainX[trainy==0]\n",
        "model.fit(trainX)\n",
        "# detect outliers in the test set\n",
        "yhat = model.predict(testX)\n",
        "# mark inliers 1, outliers -1\n",
        "testy[testy == 1] = -1\n",
        "testy[testy == 0] = 1\n",
        "# calculate score\n",
        "score = f1_score(testy, yhat, pos_label=-1)\n",
        "print('F1 Score: %.3f' % score)"
      ],
      "execution_count": null,
      "outputs": [
        {
          "output_type": "stream",
          "text": [
            "/usr/local/lib/python3.7/dist-packages/sklearn/ensemble/_iforest.py:248: FutureWarning: 'behaviour' is deprecated in 0.22 and will be removed in 0.24. You should not pass or set this parameter.\n",
            "  FutureWarning\n"
          ],
          "name": "stderr"
        },
        {
          "output_type": "stream",
          "text": [
            "F1 Score: 0.000\n"
          ],
          "name": "stdout"
        }
      ]
    },
    {
      "cell_type": "markdown",
      "metadata": {
        "id": "aAwcvnDIy6dD"
      },
      "source": [
        "---------------------------------------"
      ]
    },
    {
      "cell_type": "code",
      "metadata": {
        "colab": {
          "base_uri": "https://localhost:8080/"
        },
        "id": "IpMA9fUpySJA",
        "outputId": "64778306-121a-45e8-8b73-3b973f3aae22"
      },
      "source": [
        "# elliptic envelope for imbalanced classification\n",
        "from sklearn.datasets import make_classification\n",
        "from sklearn.model_selection import train_test_split\n",
        "from sklearn.metrics import f1_score\n",
        "from sklearn.covariance import EllipticEnvelope\n",
        "# generate dataset\n",
        "X, y = make_classification(n_samples=10000, n_features=2, n_redundant=0,\n",
        "\tn_clusters_per_class=1, weights=[0.999], flip_y=0, random_state=4)\n",
        "# split into train/test sets\n",
        "trainX, testX, trainy, testy = train_test_split(X, y, test_size=0.5, random_state=2, stratify=y)\n",
        "# define outlier detection model\n",
        "model = EllipticEnvelope(contamination=0.01)\n",
        "# fit on majority class\n",
        "trainX = trainX[trainy==0]\n",
        "model.fit(trainX)\n",
        "# detect outliers in the test set\n",
        "yhat = model.predict(testX)\n",
        "# mark inliers 1, outliers -1\n",
        "testy[testy == 1] = -1\n",
        "testy[testy == 0] = 1\n",
        "# calculate score\n",
        "score = f1_score(testy, yhat, pos_label=-1)\n",
        "print('F1 Score: %.3f' % score)"
      ],
      "execution_count": null,
      "outputs": [
        {
          "output_type": "stream",
          "text": [
            "F1 Score: 0.157\n"
          ],
          "name": "stdout"
        }
      ]
    },
    {
      "cell_type": "markdown",
      "metadata": {
        "id": "EzFezDk-y7_2"
      },
      "source": [
        "----------------------------------"
      ]
    },
    {
      "cell_type": "code",
      "metadata": {
        "colab": {
          "base_uri": "https://localhost:8080/"
        },
        "id": "KTeC8pq8yXIh",
        "outputId": "253138f7-dc85-40cf-b9c4-fa3821cae758"
      },
      "source": [
        "# local outlier factor for imbalanced classification\n",
        "from numpy import vstack\n",
        "from sklearn.datasets import make_classification\n",
        "from sklearn.model_selection import train_test_split\n",
        "from sklearn.metrics import f1_score\n",
        "from sklearn.neighbors import LocalOutlierFactor\n",
        " \n",
        "# make a prediction with a lof model\n",
        "def lof_predict(model, trainX, testX):\n",
        "\t# create one large dataset\n",
        "\tcomposite = vstack((trainX, testX))\n",
        "\t# make prediction on composite dataset\n",
        "\tyhat = model.fit_predict(composite)\n",
        "\t# return just the predictions on the test set\n",
        "\treturn yhat[len(trainX):]\n",
        " \n",
        "# generate dataset\n",
        "X, y = make_classification(n_samples=10000, n_features=2, n_redundant=0,\n",
        "\tn_clusters_per_class=1, weights=[0.999], flip_y=0, random_state=4)\n",
        "# split into train/test sets\n",
        "trainX, testX, trainy, testy = train_test_split(X, y, test_size=0.5, random_state=2, stratify=y)\n",
        "# define outlier detection model\n",
        "model = LocalOutlierFactor(contamination=0.01)\n",
        "# get examples for just the majority class\n",
        "trainX = trainX[trainy==0]\n",
        "# detect outliers in the test set\n",
        "yhat = lof_predict(model, trainX, testX)\n",
        "# mark inliers 1, outliers -1\n",
        "testy[testy == 1] = -1\n",
        "testy[testy == 0] = 1\n",
        "# calculate score\n",
        "score = f1_score(testy, yhat, pos_label=-1)\n",
        "print('F1 Score: %.3f' % score)"
      ],
      "execution_count": null,
      "outputs": [
        {
          "output_type": "stream",
          "text": [
            "F1 Score: 0.138\n"
          ],
          "name": "stdout"
        }
      ]
    },
    {
      "cell_type": "markdown",
      "metadata": {
        "id": "uhbue5iQy9xb"
      },
      "source": [
        "-------------------------------------"
      ]
    }
  ]
}