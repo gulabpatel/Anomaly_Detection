{
  "nbformat": 4,
  "nbformat_minor": 0,
  "metadata": {
    "colab": {
      "name": "03_AutoEncodersLSTM_Anomly_Detection_ECG.ipynb",
      "provenance": [],
      "authorship_tag": "ABX9TyPDo7dJUNb0ajLjzl3wQPxb"
    },
    "kernelspec": {
      "name": "python3",
      "display_name": "Python 3"
    },
    "language_info": {
      "name": "python"
    }
  },
  "cells": [
    {
      "cell_type": "markdown",
      "metadata": {
        "id": "6v8bIutkhSms"
      },
      "source": [
        "Works fine in \n",
        "\n",
        "Tensorflow: 2.2.0<br>\n",
        "Keras: 2.4.3<br>\n",
        "dataset: https://finance.yahoo.com/quote/GE/history/<br>\n",
        "Also try S&P: https://finance.yahoo.com/quote/%5EGSPC/history?p=%5EGSPC\n",
        "\n",
        "Help : https://www.youtube.com/watch?v=6S2v7G-OupA"
      ]
    },
    {
      "cell_type": "code",
      "metadata": {
        "id": "ipQ0qn3md42y"
      },
      "source": [
        "import numpy as np\n",
        "from keras.models import Sequential\n",
        "from keras.layers import LSTM, Input, Dropout\n",
        "from keras.layers import Dense\n",
        "from keras.layers import RepeatVector\n",
        "from keras.layers import TimeDistributed\n",
        "import pandas as pd\n",
        "from matplotlib import pyplot as plt\n",
        "from sklearn.preprocessing import MinMaxScaler, StandardScaler\n",
        "from keras.models import Model\n",
        "import seaborn as sns"
      ],
      "execution_count": 1,
      "outputs": []
    },
    {
      "cell_type": "code",
      "metadata": {
        "colab": {
          "base_uri": "https://localhost:8080/",
          "height": 541
        },
        "id": "JMZ5lYLej3Ow",
        "outputId": "7928fafa-fdde-47dd-e8e2-916edbc9c6e6"
      },
      "source": [
        "dataframe = pd.read_csv('GE.csv')\n",
        "df = dataframe[['Date', 'Close']]\n",
        "df['Date'] = pd.to_datetime(df['Date'])\n",
        "df"
      ],
      "execution_count": 4,
      "outputs": [
        {
          "output_type": "stream",
          "text": [
            "/usr/local/lib/python3.7/dist-packages/ipykernel_launcher.py:3: SettingWithCopyWarning: \n",
            "A value is trying to be set on a copy of a slice from a DataFrame.\n",
            "Try using .loc[row_indexer,col_indexer] = value instead\n",
            "\n",
            "See the caveats in the documentation: https://pandas.pydata.org/pandas-docs/stable/user_guide/indexing.html#returning-a-view-versus-a-copy\n",
            "  This is separate from the ipykernel package so we can avoid doing imports until\n"
          ],
          "name": "stderr"
        },
        {
          "output_type": "execute_result",
          "data": {
            "text/html": [
              "<div>\n",
              "<style scoped>\n",
              "    .dataframe tbody tr th:only-of-type {\n",
              "        vertical-align: middle;\n",
              "    }\n",
              "\n",
              "    .dataframe tbody tr th {\n",
              "        vertical-align: top;\n",
              "    }\n",
              "\n",
              "    .dataframe thead th {\n",
              "        text-align: right;\n",
              "    }\n",
              "</style>\n",
              "<table border=\"1\" class=\"dataframe\">\n",
              "  <thead>\n",
              "    <tr style=\"text-align: right;\">\n",
              "      <th></th>\n",
              "      <th>Date</th>\n",
              "      <th>Close</th>\n",
              "    </tr>\n",
              "  </thead>\n",
              "  <tbody>\n",
              "    <tr>\n",
              "      <th>0</th>\n",
              "      <td>2020-05-04</td>\n",
              "      <td>6.21</td>\n",
              "    </tr>\n",
              "    <tr>\n",
              "      <th>1</th>\n",
              "      <td>2020-05-05</td>\n",
              "      <td>6.20</td>\n",
              "    </tr>\n",
              "    <tr>\n",
              "      <th>2</th>\n",
              "      <td>2020-05-06</td>\n",
              "      <td>5.98</td>\n",
              "    </tr>\n",
              "    <tr>\n",
              "      <th>3</th>\n",
              "      <td>2020-05-07</td>\n",
              "      <td>6.11</td>\n",
              "    </tr>\n",
              "    <tr>\n",
              "      <th>4</th>\n",
              "      <td>2020-05-08</td>\n",
              "      <td>6.29</td>\n",
              "    </tr>\n",
              "    <tr>\n",
              "      <th>...</th>\n",
              "      <td>...</td>\n",
              "      <td>...</td>\n",
              "    </tr>\n",
              "    <tr>\n",
              "      <th>247</th>\n",
              "      <td>2021-04-27</td>\n",
              "      <td>13.49</td>\n",
              "    </tr>\n",
              "    <tr>\n",
              "      <th>248</th>\n",
              "      <td>2021-04-28</td>\n",
              "      <td>13.20</td>\n",
              "    </tr>\n",
              "    <tr>\n",
              "      <th>249</th>\n",
              "      <td>2021-04-29</td>\n",
              "      <td>13.21</td>\n",
              "    </tr>\n",
              "    <tr>\n",
              "      <th>250</th>\n",
              "      <td>2021-04-30</td>\n",
              "      <td>13.12</td>\n",
              "    </tr>\n",
              "    <tr>\n",
              "      <th>251</th>\n",
              "      <td>2021-05-03</td>\n",
              "      <td>13.45</td>\n",
              "    </tr>\n",
              "  </tbody>\n",
              "</table>\n",
              "<p>252 rows × 2 columns</p>\n",
              "</div>"
            ],
            "text/plain": [
              "          Date  Close\n",
              "0   2020-05-04   6.21\n",
              "1   2020-05-05   6.20\n",
              "2   2020-05-06   5.98\n",
              "3   2020-05-07   6.11\n",
              "4   2020-05-08   6.29\n",
              "..         ...    ...\n",
              "247 2021-04-27  13.49\n",
              "248 2021-04-28  13.20\n",
              "249 2021-04-29  13.21\n",
              "250 2021-04-30  13.12\n",
              "251 2021-05-03  13.45\n",
              "\n",
              "[252 rows x 2 columns]"
            ]
          },
          "metadata": {
            "tags": []
          },
          "execution_count": 4
        }
      ]
    },
    {
      "cell_type": "code",
      "metadata": {
        "id": "F0o8VrhYhj-e",
        "colab": {
          "base_uri": "https://localhost:8080/",
          "height": 313
        },
        "outputId": "0ff09584-0395-4cf8-edb6-8b5d6ba0b7ef"
      },
      "source": [
        "sns.lineplot(x=df['Date'], y=df['Close'])\n",
        "print(\"Start date is: \", df['Date'].min())\n",
        "print(\"End date is: \", df['Date'].max())"
      ],
      "execution_count": 3,
      "outputs": [
        {
          "output_type": "stream",
          "text": [
            "Start date is:  2020-05-04 00:00:00\n",
            "End date is:  2021-05-03 00:00:00\n"
          ],
          "name": "stdout"
        },
        {
          "output_type": "display_data",
          "data": {
            "image/png": "[encoded data removed]",
            "text/plain": [
              "<Figure size 432x288 with 1 Axes>"
            ]
          },
          "metadata": {
            "tags": [],
            "needs_background": "light"
          }
        }
      ]
    },
    {
      "cell_type": "code",
      "metadata": {
        "id": "Lyh5bBtEhm4Q"
      },
      "source": [
        "#Change train data from Mid 2017 to 2019.... seems to be a jump early 2017\n",
        "train, test = df.loc[df['Date'] <= '2021-1-31'], df.loc[df['Date'] > '2021-1-31']\n"
      ],
      "execution_count": 5,
      "outputs": []
    },
    {
      "cell_type": "code",
      "metadata": {
        "id": "e4nqbubrhmzc"
      },
      "source": [
        "#Convert pandas dataframe to numpy array\n",
        "#dataset = dataframe.values\n",
        "#dataset = dataset.astype('float32') #COnvert values to float\n",
        "\n",
        "#LSTM uses sigmoid and tanh that are sensitive to magnitude so values need to be normalized\n",
        "# normalize the dataset\n",
        "scaler = MinMaxScaler() #Also try QuantileTransformer"
      ],
      "execution_count": 6,
      "outputs": []
    },
    {
      "cell_type": "code",
      "metadata": {
        "id": "YBFzMKLShmwX",
        "colab": {
          "base_uri": "https://localhost:8080/"
        },
        "outputId": "549187ae-dcd1-4459-e001-355d68fc8407"
      },
      "source": [
        "scaler = StandardScaler()\n",
        "scaler = scaler.fit(train[['Close']])\n",
        "\n",
        "train['Close'] = scaler.transform(train[['Close']])\n",
        "test['Close'] = scaler.transform(test[['Close']])"
      ],
      "execution_count": 7,
      "outputs": [
        {
          "output_type": "stream",
          "text": [
            "/usr/local/lib/python3.7/dist-packages/ipykernel_launcher.py:4: SettingWithCopyWarning: \n",
            "A value is trying to be set on a copy of a slice from a DataFrame.\n",
            "Try using .loc[row_indexer,col_indexer] = value instead\n",
            "\n",
            "See the caveats in the documentation: https://pandas.pydata.org/pandas-docs/stable/user_guide/indexing.html#returning-a-view-versus-a-copy\n",
            "  after removing the cwd from sys.path.\n",
            "/usr/local/lib/python3.7/dist-packages/ipykernel_launcher.py:5: SettingWithCopyWarning: \n",
            "A value is trying to be set on a copy of a slice from a DataFrame.\n",
            "Try using .loc[row_indexer,col_indexer] = value instead\n",
            "\n",
            "See the caveats in the documentation: https://pandas.pydata.org/pandas-docs/stable/user_guide/indexing.html#returning-a-view-versus-a-copy\n",
            "  \"\"\"\n"
          ],
          "name": "stderr"
        }
      ]
    },
    {
      "cell_type": "code",
      "metadata": {
        "id": "rMJYwfQWhmtj"
      },
      "source": [
        "#As required for LSTM networks, we require to reshape an input data into n_samples x timesteps x n_features. \n",
        "#In this example, the n_features is 2. We will make timesteps = 3. \n",
        "#With this, the resultant n_samples is 5 (as the input data has 9 rows).\n",
        "seq_size = 30  # Number of time steps to look back \n",
        "#Larger sequences (look further back) may improve forecasting."
      ],
      "execution_count": 8,
      "outputs": []
    },
    {
      "cell_type": "code",
      "metadata": {
        "id": "E0heG18Zhmqi"
      },
      "source": [
        "def to_sequences(x, y, seq_size=1):\n",
        "    x_values = []\n",
        "    y_values = []\n",
        "\n",
        "    for i in range(len(x)-seq_size):\n",
        "        #print(i)\n",
        "        x_values.append(x.iloc[i:(i+seq_size)].values)\n",
        "        y_values.append(y.iloc[i+seq_size])\n",
        "        \n",
        "    return np.array(x_values), np.array(y_values)\n",
        "\n",
        "trainX, trainY = to_sequences(train[['Close']], train['Close'], seq_size)\n",
        "testX, testY = to_sequences(test[['Close']], test['Close'], seq_size)"
      ],
      "execution_count": 9,
      "outputs": []
    },
    {
      "cell_type": "code",
      "metadata": {
        "id": "Qg4sCuGzhmnm"
      },
      "source": [
        "# define Autoencoder model\n",
        "#Input shape would be seq_size, 1 - 1 beacuse we have 1 feature. \n",
        "# seq_size = trainX.shape[1]\n",
        "\n",
        "# model = Sequential()\n",
        "# model.add(LSTM(128, activation='relu', input_shape=(trainX.shape[1], trainX.shape[2]), return_sequences=True))\n",
        "# model.add(LSTM(64, activation='relu', return_sequences=False))\n",
        "# model.add(RepeatVector(trainX.shape[1]))\n",
        "# model.add(LSTM(64, activation='relu', return_sequences=True))\n",
        "# model.add(LSTM(128, activation='relu', return_sequences=True))\n",
        "# model.add(TimeDistributed(Dense(trainX.shape[2])))\n",
        "\n",
        "# model.compile(optimizer='adam', loss='mse')\n",
        "# model.summary()"
      ],
      "execution_count": 10,
      "outputs": []
    },
    {
      "cell_type": "code",
      "metadata": {
        "id": "ajGHKL33hmkX",
        "colab": {
          "base_uri": "https://localhost:8080/"
        },
        "outputId": "4d02aa6e-0638-465f-f983-dc48f174ba52"
      },
      "source": [
        "#Try another model\n",
        "model = Sequential()\n",
        "model.add(LSTM(128, input_shape=(trainX.shape[1], trainX.shape[2])))\n",
        "model.add(Dropout(rate=0.2))\n",
        "\n",
        "model.add(RepeatVector(trainX.shape[1]))\n",
        "\n",
        "model.add(LSTM(128, return_sequences=True))\n",
        "model.add(Dropout(rate=0.2))\n",
        "model.add(TimeDistributed(Dense(trainX.shape[2])))\n",
        "model.compile(optimizer='adam', loss='mae')\n",
        "model.summary()"
      ],
      "execution_count": 11,
      "outputs": [
        {
          "output_type": "stream",
          "text": [
            "Model: \"sequential\"\n",
            "_________________________________________________________________\n",
            "Layer (type)                 Output Shape              Param #   \n",
            "=================================================================\n",
            "lstm (LSTM)                  (None, 128)               66560     \n",
            "_________________________________________________________________\n",
            "dropout (Dropout)            (None, 128)               0         \n",
            "_________________________________________________________________\n",
            "repeat_vector (RepeatVector) (None, 30, 128)           0         \n",
            "_________________________________________________________________\n",
            "lstm_1 (LSTM)                (None, 30, 128)           131584    \n",
            "_________________________________________________________________\n",
            "dropout_1 (Dropout)          (None, 30, 128)           0         \n",
            "_________________________________________________________________\n",
            "time_distributed (TimeDistri (None, 30, 1)             129       \n",
            "=================================================================\n",
            "Total params: 198,273\n",
            "Trainable params: 198,273\n",
            "Non-trainable params: 0\n",
            "_________________________________________________________________\n"
          ],
          "name": "stdout"
        }
      ]
    },
    {
      "cell_type": "code",
      "metadata": {
        "id": "DdayxsD5iMWm",
        "colab": {
          "base_uri": "https://localhost:8080/"
        },
        "outputId": "1d5590e0-54be-46f5-865a-28cf5ca5ec52"
      },
      "source": [
        "# fit model\n",
        "history = model.fit(trainX, trainY, epochs=10, batch_size=32, validation_split=0.1, verbose=1)"
      ],
      "execution_count": 12,
      "outputs": [
        {
          "output_type": "stream",
          "text": [
            "Epoch 1/10\n",
            "5/5 [==============================] - 5s 379ms/step - loss: 0.6759 - val_loss: 0.5129\n",
            "Epoch 2/10\n",
            "5/5 [==============================] - 0s 90ms/step - loss: 0.3071 - val_loss: 0.3897\n",
            "Epoch 3/10\n",
            "5/5 [==============================] - 0s 81ms/step - loss: 0.2366 - val_loss: 0.2922\n",
            "Epoch 4/10\n",
            "5/5 [==============================] - 0s 81ms/step - loss: 0.1993 - val_loss: 0.2371\n",
            "Epoch 5/10\n",
            "5/5 [==============================] - 0s 85ms/step - loss: 0.1817 - val_loss: 0.2549\n",
            "Epoch 6/10\n",
            "5/5 [==============================] - 0s 79ms/step - loss: 0.1709 - val_loss: 0.2071\n",
            "Epoch 7/10\n",
            "5/5 [==============================] - 0s 89ms/step - loss: 0.1630 - val_loss: 0.2022\n",
            "Epoch 8/10\n",
            "5/5 [==============================] - 0s 96ms/step - loss: 0.1548 - val_loss: 0.1924\n",
            "Epoch 9/10\n",
            "5/5 [==============================] - 0s 94ms/step - loss: 0.1555 - val_loss: 0.2454\n",
            "Epoch 10/10\n",
            "5/5 [==============================] - 0s 85ms/step - loss: 0.1544 - val_loss: 0.1800\n"
          ],
          "name": "stdout"
        }
      ]
    },
    {
      "cell_type": "code",
      "metadata": {
        "id": "0dqOW6WLiMLd",
        "colab": {
          "base_uri": "https://localhost:8080/",
          "height": 282
        },
        "outputId": "fee18d3c-de1a-476a-aafc-20a0d5132e11"
      },
      "source": [
        "plt.plot(history.history['loss'], label='Training loss')\n",
        "plt.plot(history.history['val_loss'], label='Validation loss')\n",
        "plt.legend()"
      ],
      "execution_count": 13,
      "outputs": [
        {
          "output_type": "execute_result",
          "data": {
            "text/plain": [
              "<matplotlib.legend.Legend at 0x7f7ad8bbbed0>"
            ]
          },
          "metadata": {
            "tags": []
          },
          "execution_count": 13
        },
        {
          "output_type": "display_data",
          "data": {
            "image/png": "[encoded data removed]",
            "text/plain": [
              "<Figure size 432x288 with 1 Axes>"
            ]
          },
          "metadata": {
            "tags": [],
            "needs_background": "light"
          }
        }
      ]
    },
    {
      "cell_type": "code",
      "metadata": {
        "id": "zRH0zIyeiMHk",
        "colab": {
          "base_uri": "https://localhost:8080/"
        },
        "outputId": "4b5a113c-090d-47c1-b513-1bacf7c5ee8f"
      },
      "source": [
        "model.evaluate(testX, testY)"
      ],
      "execution_count": 14,
      "outputs": [
        {
          "output_type": "stream",
          "text": [
            "2/2 [==============================] - 0s 12ms/step - loss: 0.5338\n"
          ],
          "name": "stdout"
        },
        {
          "output_type": "execute_result",
          "data": {
            "text/plain": [
              "0.5337725877761841"
            ]
          },
          "metadata": {
            "tags": []
          },
          "execution_count": 14
        }
      ]
    },
    {
      "cell_type": "code",
      "metadata": {
        "id": "u68wH8ckiMEb",
        "colab": {
          "base_uri": "https://localhost:8080/",
          "height": 452
        },
        "outputId": "6813dcbb-0664-4ea7-a179-4a387150b6ef"
      },
      "source": [
        "#Anomaly is where reconstruction error is large.\n",
        "#We can define this value beyond which we call anomaly.\n",
        "#Let us look at MAE in training prediction\n",
        "\n",
        "trainPredict = model.predict(trainX)\n",
        "trainMAE = np.mean(np.abs(trainPredict - trainX), axis=1)\n",
        "plt.hist(trainMAE, bins=30)"
      ],
      "execution_count": 15,
      "outputs": [
        {
          "output_type": "execute_result",
          "data": {
            "text/plain": [
              "(array([11., 18., 20., 11., 20., 13., 11.,  4.,  3.,  5.,  6.,  2.,  5.,\n",
              "         2.,  1.,  0.,  2.,  0.,  1.,  0.,  1.,  2.,  3.,  5.,  1.,  1.,\n",
              "         1.,  2.,  4.,  3.]),\n",
              " array([0.07426065, 0.1081513 , 0.14204196, 0.17593261, 0.20982327,\n",
              "        0.24371392, 0.27760457, 0.31149523, 0.34538588, 0.37927654,\n",
              "        0.41316719, 0.44705785, 0.4809485 , 0.51483915, 0.54872981,\n",
              "        0.58262046, 0.61651112, 0.65040177, 0.68429242, 0.71818308,\n",
              "        0.75207373, 0.78596439, 0.81985504, 0.85374569, 0.88763635,\n",
              "        0.921527  , 0.95541766, 0.98930831, 1.02319896, 1.05708962,\n",
              "        1.09098027]),\n",
              " <a list of 30 Patch objects>)"
            ]
          },
          "metadata": {
            "tags": []
          },
          "execution_count": 15
        },
        {
          "output_type": "display_data",
          "data": {
            "image/png": "[encoded data removed]",
            "text/plain": [
              "<Figure size 432x288 with 1 Axes>"
            ]
          },
          "metadata": {
            "tags": [],
            "needs_background": "light"
          }
        }
      ]
    },
    {
      "cell_type": "code",
      "metadata": {
        "id": "MfG-j-RliL88",
        "colab": {
          "base_uri": "https://localhost:8080/",
          "height": 435
        },
        "outputId": "63c4e551-3958-4d78-b61f-5dd4f864f794"
      },
      "source": [
        "testPredict = model.predict(testX)\n",
        "testMAE = np.mean(np.abs(testPredict - testX), axis=1)\n",
        "plt.hist(testMAE, bins=30)"
      ],
      "execution_count": 16,
      "outputs": [
        {
          "output_type": "execute_result",
          "data": {
            "text/plain": [
              "(array([1., 6., 1., 3., 2., 2., 0., 2., 1., 1., 3., 3., 3., 0., 0., 0., 1.,\n",
              "        0., 0., 2., 0., 0., 0., 0., 1., 0., 1., 0., 0., 1.]),\n",
              " array([0.43470261, 0.43808955, 0.44147649, 0.44486343, 0.44825038,\n",
              "        0.45163732, 0.45502426, 0.45841121, 0.46179815, 0.46518509,\n",
              "        0.46857203, 0.47195898, 0.47534592, 0.47873286, 0.4821198 ,\n",
              "        0.48550675, 0.48889369, 0.49228063, 0.49566758, 0.49905452,\n",
              "        0.50244146, 0.5058284 , 0.50921535, 0.51260229, 0.51598923,\n",
              "        0.51937617, 0.52276312, 0.52615006, 0.529537  , 0.53292395,\n",
              "        0.53631089]),\n",
              " <a list of 30 Patch objects>)"
            ]
          },
          "metadata": {
            "tags": []
          },
          "execution_count": 16
        },
        {
          "output_type": "display_data",
          "data": {
            "image/png": "[encoded data removed]",
            "text/plain": [
              "<Figure size 432x288 with 1 Axes>"
            ]
          },
          "metadata": {
            "tags": [],
            "needs_background": "light"
          }
        }
      ]
    },
    {
      "cell_type": "code",
      "metadata": {
        "id": "dBEiLo23iL5c"
      },
      "source": [
        "#Capture all details in a DataFrame for easy plotting\n",
        "max_trainMAE = 0.3  #or Define 90% value of max as threshold.\n",
        "anomaly_df = pd.DataFrame(test[seq_size:])\n",
        "anomaly_df['testMAE'] = testMAE\n",
        "anomaly_df['max_trainMAE'] = max_trainMAE\n",
        "anomaly_df['anomaly'] = anomaly_df['testMAE'] > anomaly_df['max_trainMAE']\n",
        "anomaly_df['Close'] = test[seq_size:]['Close']"
      ],
      "execution_count": 18,
      "outputs": []
    },
    {
      "cell_type": "code",
      "metadata": {
        "colab": {
          "base_uri": "https://localhost:8080/",
          "height": 296
        },
        "id": "XuipIhBylDnT",
        "outputId": "f262100d-96ce-4a22-fe9d-10cb861f58ac"
      },
      "source": [
        "#Plot testMAE vs max_trainMAE\n",
        "sns.lineplot(x=anomaly_df['Date'], y=anomaly_df['testMAE'])\n",
        "sns.lineplot(x=anomaly_df['Date'], y=anomaly_df['max_trainMAE'])"
      ],
      "execution_count": 19,
      "outputs": [
        {
          "output_type": "execute_result",
          "data": {
            "text/plain": [
              "<matplotlib.axes._subplots.AxesSubplot at 0x7f7ad77f1550>"
            ]
          },
          "metadata": {
            "tags": []
          },
          "execution_count": 19
        },
        {
          "output_type": "display_data",
          "data": {
            "image/png": "[encoded data removed]",
            "text/plain": [
              "<Figure size 432x288 with 1 Axes>"
            ]
          },
          "metadata": {
            "tags": [],
            "needs_background": "light"
          }
        }
      ]
    },
    {
      "cell_type": "code",
      "metadata": {
        "id": "KZpxPgk5lNxs"
      },
      "source": [
        "anomalies = anomaly_df.loc[anomaly_df['anomaly'] == True]"
      ],
      "execution_count": 20,
      "outputs": []
    },
    {
      "cell_type": "code",
      "metadata": {
        "id": "tqAIqcoalPn4"
      },
      "source": [
        "#Plot anomalies\n",
        "sns.lineplot(x=anomaly_df['Date'], y=scaler.inverse_transform(anomaly_df['Close']))\n",
        "sns.scatterplot(x=anomalies['Date'], y=scaler.inverse_transform(anomalies['Close']), color='r')"
      ],
      "execution_count": null,
      "outputs": []
    },
    {
      "cell_type": "markdown",
      "metadata": {
        "id": "WwFI340UlT9T"
      },
      "source": [
        "--------------------------------"
      ]
    }
  ]
}