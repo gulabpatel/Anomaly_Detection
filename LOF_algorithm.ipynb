{
  "nbformat": 4,
  "nbformat_minor": 0,
  "metadata": {
    "kernelspec": {
      "display_name": "Python 2",
      "language": "python",
      "name": "python2"
    },
    "language_info": {
      "codemirror_mode": {
        "name": "ipython",
        "version": 2
      },
      "file_extension": ".py",
      "mimetype": "text/x-python",
      "name": "python",
      "nbconvert_exporter": "python",
      "pygments_lexer": "ipython2",
      "version": "2.7.13"
    },
    "colab": {
      "name": "LOF_algorithm.ipynb",
      "provenance": []
    }
  },
  "cells": [
    {
      "cell_type": "markdown",
      "metadata": {
        "id": "jQSShIpI1C5D"
      },
      "source": [
        "# Outlier detection with LOF(Local Outlier Factor)"
      ]
    },
    {
      "cell_type": "markdown",
      "metadata": {
        "id": "hLr3qrU01C5K"
      },
      "source": [
        "Based on the clickstream event frequency pattern in Q2Q3_input.csv, apply LOF algorithm to\n",
        "calculate LOF for each point with the following initial settings:\n",
        "1. Set k = 2 and use Manhattan distance. \n",
        "2. Set k = 3 and use Euclidean distance.\n",
        "3. Report top 5 outliers \n"
      ]
    },
    {
      "cell_type": "code",
      "metadata": {
        "id": "OuaA1nsU1C5L",
        "colab": {
          "base_uri": "https://localhost:8080/"
        },
        "outputId": "5dc70f49-0aed-4110-a5e2-e22c88144603"
      },
      "source": [
        "#python 2.7\n",
        "%matplotlib inline\n",
        "%pylab inline\n",
        "import pandas as pd\n",
        "import numpy as np\n",
        "import seaborn as sns\n",
        "from scipy.spatial.distance import pdist, squareform"
      ],
      "execution_count": null,
      "outputs": [
        {
          "output_type": "stream",
          "text": [
            "Populating the interactive namespace from numpy and matplotlib\n"
          ],
          "name": "stdout"
        }
      ]
    },
    {
      "cell_type": "code",
      "metadata": {
        "collapsed": true,
        "id": "r3ziZK0i1C5N"
      },
      "source": [
        "data_input = pd.read_csv('https://raw.githubusercontent.com/gulabpatel/Statistics/master/Dataset/Q2Q3_input.csv')"
      ],
      "execution_count": null,
      "outputs": []
    },
    {
      "cell_type": "code",
      "metadata": {
        "id": "zJPI3w371C5N",
        "colab": {
          "base_uri": "https://localhost:8080/",
          "height": 202
        },
        "outputId": "518239d0-d325-4952-f94d-31cf6b22fb47"
      },
      "source": [
        "data_input.head()"
      ],
      "execution_count": null,
      "outputs": [
        {
          "output_type": "execute_result",
          "data": {
            "text/plain": [
              "   user_id  load_video  pause_video  play_video  seek_video  \\\n",
              "0        0         2.0          1.0         4.0         1.0   \n",
              "1        1         6.0         14.0        14.0         0.0   \n",
              "2        2         1.0          0.0         0.0         0.0   \n",
              "3        3         2.0          2.0         2.0         0.0   \n",
              "4        4         1.0          3.0        22.0        18.0   \n",
              "\n",
              "   speed_change_video  stop_video  \n",
              "0                 0.0         1.0  \n",
              "1                 0.0         1.0  \n",
              "2                 0.0         0.0  \n",
              "3                 0.0         1.0  \n",
              "4                 0.0         0.0  "
            ],
            "text/html": [
              "<div>\n",
              "<style scoped>\n",
              "    .dataframe tbody tr th:only-of-type {\n",
              "        vertical-align: middle;\n",
              "    }\n",
              "\n",
              "    .dataframe tbody tr th {\n",
              "        vertical-align: top;\n",
              "    }\n",
              "\n",
              "    .dataframe thead th {\n",
              "        text-align: right;\n",
              "    }\n",
              "</style>\n",
              "<table border=\"1\" class=\"dataframe\">\n",
              "  <thead>\n",
              "    <tr style=\"text-align: right;\">\n",
              "      <th></th>\n",
              "      <th>user_id</th>\n",
              "      <th>load_video</th>\n",
              "      <th>pause_video</th>\n",
              "      <th>play_video</th>\n",
              "      <th>seek_video</th>\n",
              "      <th>speed_change_video</th>\n",
              "      <th>stop_video</th>\n",
              "    </tr>\n",
              "  </thead>\n",
              "  <tbody>\n",
              "    <tr>\n",
              "      <th>0</th>\n",
              "      <td>0</td>\n",
              "      <td>2.0</td>\n",
              "      <td>1.0</td>\n",
              "      <td>4.0</td>\n",
              "      <td>1.0</td>\n",
              "      <td>0.0</td>\n",
              "      <td>1.0</td>\n",
              "    </tr>\n",
              "    <tr>\n",
              "      <th>1</th>\n",
              "      <td>1</td>\n",
              "      <td>6.0</td>\n",
              "      <td>14.0</td>\n",
              "      <td>14.0</td>\n",
              "      <td>0.0</td>\n",
              "      <td>0.0</td>\n",
              "      <td>1.0</td>\n",
              "    </tr>\n",
              "    <tr>\n",
              "      <th>2</th>\n",
              "      <td>2</td>\n",
              "      <td>1.0</td>\n",
              "      <td>0.0</td>\n",
              "      <td>0.0</td>\n",
              "      <td>0.0</td>\n",
              "      <td>0.0</td>\n",
              "      <td>0.0</td>\n",
              "    </tr>\n",
              "    <tr>\n",
              "      <th>3</th>\n",
              "      <td>3</td>\n",
              "      <td>2.0</td>\n",
              "      <td>2.0</td>\n",
              "      <td>2.0</td>\n",
              "      <td>0.0</td>\n",
              "      <td>0.0</td>\n",
              "      <td>1.0</td>\n",
              "    </tr>\n",
              "    <tr>\n",
              "      <th>4</th>\n",
              "      <td>4</td>\n",
              "      <td>1.0</td>\n",
              "      <td>3.0</td>\n",
              "      <td>22.0</td>\n",
              "      <td>18.0</td>\n",
              "      <td>0.0</td>\n",
              "      <td>0.0</td>\n",
              "    </tr>\n",
              "  </tbody>\n",
              "</table>\n",
              "</div>"
            ]
          },
          "metadata": {
            "tags": []
          },
          "execution_count": 3
        }
      ]
    },
    {
      "cell_type": "code",
      "metadata": {
        "colab": {
          "base_uri": "https://localhost:8080/"
        },
        "id": "hZZMJX-w4BpT",
        "outputId": "b288888e-e205-4b9b-8651-238576b2d87f"
      },
      "source": [
        "data_input.iloc[1][1]"
      ],
      "execution_count": null,
      "outputs": [
        {
          "output_type": "execute_result",
          "data": {
            "text/plain": [
              "6.0"
            ]
          },
          "metadata": {
            "tags": []
          },
          "execution_count": 11
        }
      ]
    },
    {
      "cell_type": "code",
      "metadata": {
        "collapsed": true,
        "id": "-b8j6atr1C5O"
      },
      "source": [
        "#Reachdist function\n",
        "def reachdist(distance_df, observation, index):\n",
        "    return distance_df[observation][index]"
      ],
      "execution_count": null,
      "outputs": []
    },
    {
      "cell_type": "code",
      "metadata": {
        "collapsed": true,
        "id": "DGfehXTv1C5O"
      },
      "source": [
        "#LOF algorithm implementation from scratch\n",
        "def LOF_algorithm(data_input, distance_metric = \"cityblock\", p = 5):\n",
        "    distances = pdist(data_input.values, metric=distance_metric)\n",
        "    dist_matrix = squareform(distances)\n",
        "    distance_df = pd.DataFrame(dist_matrix)\n",
        "    \n",
        "    k = 2 if distance_metric == \"cityblock\" else 3 \n",
        "    observations = distance_df.columns\n",
        "    lrd_dict = {}\n",
        "    n_dist_index = {}\n",
        "    reach_array_dict = {}\n",
        "    \n",
        "    for observation in observations:\n",
        "        dist = distance_df[observation].nsmallest(k+1).iloc[k]\n",
        "        indexes = distance_df[distance_df[observation] <= dist].drop(observation).index\n",
        "        n_dist_index[observation] = indexes\n",
        "    \n",
        "        reach_dist_array = []\n",
        "        for index in indexes:\n",
        "            #make a function reachdist(observation, index)\n",
        "            dist_between_observation_and_index = reachdist(distance_df, observation, index)\n",
        "            dist_index =  distance_df[index].nsmallest(k+1).iloc[k]\n",
        "            reach_dist = max(dist_index, dist_between_observation_and_index)\n",
        "            reach_dist_array.append(reach_dist)\n",
        "        lrd_observation = len(indexes)/sum(reach_dist_array)\n",
        "        reach_array_dict[observation] = reach_dist_array\n",
        "        lrd_dict[observation] = lrd_observation\n",
        "        \n",
        "    #Calculate LOF\n",
        "    LOF_dict = {}\n",
        "    for observation in observations:\n",
        "        lrd_array = []\n",
        "        for index in n_dist_index[observation]:\n",
        "            lrd_array.append(lrd_dict[index])\n",
        "        LOF = sum(lrd_array)*sum(reach_array_dict[observation])/np.square(len(n_dist_index[observation]))\n",
        "        LOF_dict[observation] = LOF\n",
        "\n",
        "    return sorted(LOF_dict.items(), key=lambda x: x[1], reverse=True)[:p]"
      ],
      "execution_count": null,
      "outputs": []
    },
    {
      "cell_type": "code",
      "metadata": {
        "id": "P6pE0TJO1C5P",
        "colab": {
          "base_uri": "https://localhost:8080/"
        },
        "outputId": "6a4d98d0-a6dc-4077-dc1f-f1c625155310"
      },
      "source": [
        "LOF_algorithm(data_input, p = 5)"
      ],
      "execution_count": null,
      "outputs": [
        {
          "output_type": "execute_result",
          "data": {
            "text/plain": [
              "[(19, 11.07),\n",
              " (525, 8.867228661749209),\n",
              " (66, 5.026785714285714),\n",
              " (638, 4.334727219682972),\n",
              " (177, 3.6292633292633294)]"
            ]
          },
          "metadata": {
            "tags": []
          },
          "execution_count": 14
        }
      ]
    },
    {
      "cell_type": "code",
      "metadata": {
        "id": "-LM2I4zJ1C5P",
        "colab": {
          "base_uri": "https://localhost:8080/"
        },
        "outputId": "80b58d54-33e5-499b-be6a-add77c7b027d"
      },
      "source": [
        "LOF_algorithm(data_input, p = 5, distance_metric = 'euclidean')"
      ],
      "execution_count": null,
      "outputs": [
        {
          "output_type": "execute_result",
          "data": {
            "text/plain": [
              "[(638, 3.0800716645705695),\n",
              " (525, 3.010316256261629),\n",
              " (19, 2.8402916620868903),\n",
              " (66, 2.801410266169121),\n",
              " (65, 2.6456528412196416)]"
            ]
          },
          "metadata": {
            "tags": []
          },
          "execution_count": 15
        }
      ]
    },
    {
      "cell_type": "markdown",
      "metadata": {
        "id": "tfoTuq5R5zPh"
      },
      "source": [
        "----------------------"
      ]
    }
  ]
}