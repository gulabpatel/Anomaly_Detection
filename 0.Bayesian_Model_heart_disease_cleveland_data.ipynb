{
  "nbformat": 4,
  "nbformat_minor": 0,
  "metadata": {
    "colab": {
      "name": "0.Bayesian_Model_heart-disease.ipynb",
      "provenance": [],
      "authorship_tag": "ABX9TyNjB1C/bIMbt9urfZ3jlZt5"
    },
    "kernelspec": {
      "name": "python3",
      "display_name": "Python 3"
    },
    "language_info": {
      "name": "python"
    }
  },
  "cells": [
    {
      "cell_type": "code",
      "metadata": {
        "colab": {
          "base_uri": "https://localhost:8080/"
        },
        "id": "dZCY6vRYKn1L",
        "outputId": "351652f9-e347-428b-db2e-180f31de7e8d"
      },
      "source": [
        "!pip install pgmpy"
      ],
      "execution_count": 1,
      "outputs": [
        {
          "output_type": "stream",
          "text": [
            "Collecting pgmpy\n",
            "\u001b[?25l  Downloading https://files.pythonhosted.org/packages/a3/0e/d9fadbfaa35e010c04d43acd3ae9fbefec98897dd7d61a6b7eb5a8b34072/pgmpy-0.1.14-py3-none-any.whl (331kB)\n",
            "\r\u001b[K     |█                               | 10kB 9.6MB/s eta 0:00:01\r\u001b[K     |██                              | 20kB 14.3MB/s eta 0:00:01\r\u001b[K     |███                             | 30kB 8.7MB/s eta 0:00:01\r\u001b[K     |████                            | 40kB 8.9MB/s eta 0:00:01\r\u001b[K     |█████                           | 51kB 5.3MB/s eta 0:00:01\r\u001b[K     |██████                          | 61kB 6.1MB/s eta 0:00:01\r\u001b[K     |███████                         | 71kB 6.0MB/s eta 0:00:01\r\u001b[K     |████████                        | 81kB 6.6MB/s eta 0:00:01\r\u001b[K     |█████████                       | 92kB 6.7MB/s eta 0:00:01\r\u001b[K     |█████████▉                      | 102kB 5.3MB/s eta 0:00:01\r\u001b[K     |██████████▉                     | 112kB 5.3MB/s eta 0:00:01\r\u001b[K     |███████████▉                    | 122kB 5.3MB/s eta 0:00:01\r\u001b[K     |████████████▉                   | 133kB 5.3MB/s eta 0:00:01\r\u001b[K     |█████████████▉                  | 143kB 5.3MB/s eta 0:00:01\r\u001b[K     |██████████████▉                 | 153kB 5.3MB/s eta 0:00:01\r\u001b[K     |███████████████▉                | 163kB 5.3MB/s eta 0:00:01\r\u001b[K     |████████████████▉               | 174kB 5.3MB/s eta 0:00:01\r\u001b[K     |█████████████████▉              | 184kB 5.3MB/s eta 0:00:01\r\u001b[K     |██████████████████▉             | 194kB 5.3MB/s eta 0:00:01\r\u001b[K     |███████████████████▊            | 204kB 5.3MB/s eta 0:00:01\r\u001b[K     |████████████████████▊           | 215kB 5.3MB/s eta 0:00:01\r\u001b[K     |█████████████████████▊          | 225kB 5.3MB/s eta 0:00:01\r\u001b[K     |██████████████████████▊         | 235kB 5.3MB/s eta 0:00:01\r\u001b[K     |███████████████████████▊        | 245kB 5.3MB/s eta 0:00:01\r\u001b[K     |████████████████████████▊       | 256kB 5.3MB/s eta 0:00:01\r\u001b[K     |█████████████████████████▊      | 266kB 5.3MB/s eta 0:00:01\r\u001b[K     |██████████████████████████▊     | 276kB 5.3MB/s eta 0:00:01\r\u001b[K     |███████████████████████████▊    | 286kB 5.3MB/s eta 0:00:01\r\u001b[K     |████████████████████████████▊   | 296kB 5.3MB/s eta 0:00:01\r\u001b[K     |█████████████████████████████▋  | 307kB 5.3MB/s eta 0:00:01\r\u001b[K     |██████████████████████████████▋ | 317kB 5.3MB/s eta 0:00:01\r\u001b[K     |███████████████████████████████▋| 327kB 5.3MB/s eta 0:00:01\r\u001b[K     |████████████████████████████████| 337kB 5.3MB/s \n",
            "\u001b[?25hRequirement already satisfied: numpy in /usr/local/lib/python3.7/dist-packages (from pgmpy) (1.19.5)\n",
            "Requirement already satisfied: scipy in /usr/local/lib/python3.7/dist-packages (from pgmpy) (1.4.1)\n",
            "Requirement already satisfied: joblib in /usr/local/lib/python3.7/dist-packages (from pgmpy) (1.0.1)\n",
            "Requirement already satisfied: tqdm in /usr/local/lib/python3.7/dist-packages (from pgmpy) (4.41.1)\n",
            "Requirement already satisfied: scikit-learn in /usr/local/lib/python3.7/dist-packages (from pgmpy) (0.22.2.post1)\n",
            "Requirement already satisfied: torch in /usr/local/lib/python3.7/dist-packages (from pgmpy) (1.8.1+cu101)\n",
            "Requirement already satisfied: networkx in /usr/local/lib/python3.7/dist-packages (from pgmpy) (2.5.1)\n",
            "Requirement already satisfied: pyparsing in /usr/local/lib/python3.7/dist-packages (from pgmpy) (2.4.7)\n",
            "Requirement already satisfied: statsmodels in /usr/local/lib/python3.7/dist-packages (from pgmpy) (0.10.2)\n",
            "Requirement already satisfied: pandas in /usr/local/lib/python3.7/dist-packages (from pgmpy) (1.1.5)\n",
            "Requirement already satisfied: typing-extensions in /usr/local/lib/python3.7/dist-packages (from torch->pgmpy) (3.7.4.3)\n",
            "Requirement already satisfied: decorator<5,>=4.3 in /usr/local/lib/python3.7/dist-packages (from networkx->pgmpy) (4.4.2)\n",
            "Requirement already satisfied: patsy>=0.4.0 in /usr/local/lib/python3.7/dist-packages (from statsmodels->pgmpy) (0.5.1)\n",
            "Requirement already satisfied: python-dateutil>=2.7.3 in /usr/local/lib/python3.7/dist-packages (from pandas->pgmpy) (2.8.1)\n",
            "Requirement already satisfied: pytz>=2017.2 in /usr/local/lib/python3.7/dist-packages (from pandas->pgmpy) (2018.9)\n",
            "Requirement already satisfied: six in /usr/local/lib/python3.7/dist-packages (from patsy>=0.4.0->statsmodels->pgmpy) (1.15.0)\n",
            "Installing collected packages: pgmpy\n",
            "Successfully installed pgmpy-0.1.14\n"
          ],
          "name": "stdout"
        }
      ]
    },
    {
      "cell_type": "code",
      "metadata": {
        "id": "beIcFpo4KWq4"
      },
      "source": [
        "import pandas as pd\n",
        "from urllib.request import urlopen\n",
        "from pgmpy.models import BayesianModel"
      ],
      "execution_count": 2,
      "outputs": []
    },
    {
      "cell_type": "code",
      "metadata": {
        "colab": {
          "base_uri": "https://localhost:8080/"
        },
        "id": "VSIrKed8Kqn5",
        "outputId": "0f8aac9c-fd9e-4c0c-8abf-7cf432f5847e"
      },
      "source": [
        "names = \"A,B,C,D,E,F,G,H,I,J,K,L,M,RESULT\"\n",
        "names = names.split(\",\")\n",
        "names"
      ],
      "execution_count": 3,
      "outputs": [
        {
          "output_type": "execute_result",
          "data": {
            "text/plain": [
              "['A', 'B', 'C', 'D', 'E', 'F', 'G', 'H', 'I', 'J', 'K', 'L', 'M', 'RESULT']"
            ]
          },
          "metadata": {
            "tags": []
          },
          "execution_count": 3
        }
      ]
    },
    {
      "cell_type": "code",
      "metadata": {
        "colab": {
          "base_uri": "https://localhost:8080/",
          "height": 204
        },
        "id": "OOT3-IPvLxfu",
        "outputId": "ed13e631-6014-499a-8740-f4cecb4a40d8"
      },
      "source": [
        "data = pd.read_csv(urlopen(\"https://archive.ics.uci.edu/ml/machine-learning-databases/heart-disease/processed.cleveland.data\"), names=names)\n",
        "data.head()"
      ],
      "execution_count": 4,
      "outputs": [
        {
          "output_type": "execute_result",
          "data": {
            "text/html": [
              "<div>\n",
              "<style scoped>\n",
              "    .dataframe tbody tr th:only-of-type {\n",
              "        vertical-align: middle;\n",
              "    }\n",
              "\n",
              "    .dataframe tbody tr th {\n",
              "        vertical-align: top;\n",
              "    }\n",
              "\n",
              "    .dataframe thead th {\n",
              "        text-align: right;\n",
              "    }\n",
              "</style>\n",
              "<table border=\"1\" class=\"dataframe\">\n",
              "  <thead>\n",
              "    <tr style=\"text-align: right;\">\n",
              "      <th></th>\n",
              "      <th>A</th>\n",
              "      <th>B</th>\n",
              "      <th>C</th>\n",
              "      <th>D</th>\n",
              "      <th>E</th>\n",
              "      <th>F</th>\n",
              "      <th>G</th>\n",
              "      <th>H</th>\n",
              "      <th>I</th>\n",
              "      <th>J</th>\n",
              "      <th>K</th>\n",
              "      <th>L</th>\n",
              "      <th>M</th>\n",
              "      <th>RESULT</th>\n",
              "    </tr>\n",
              "  </thead>\n",
              "  <tbody>\n",
              "    <tr>\n",
              "      <th>0</th>\n",
              "      <td>63.0</td>\n",
              "      <td>1.0</td>\n",
              "      <td>1.0</td>\n",
              "      <td>145.0</td>\n",
              "      <td>233.0</td>\n",
              "      <td>1.0</td>\n",
              "      <td>2.0</td>\n",
              "      <td>150.0</td>\n",
              "      <td>0.0</td>\n",
              "      <td>2.3</td>\n",
              "      <td>3.0</td>\n",
              "      <td>0.0</td>\n",
              "      <td>6.0</td>\n",
              "      <td>0</td>\n",
              "    </tr>\n",
              "    <tr>\n",
              "      <th>1</th>\n",
              "      <td>67.0</td>\n",
              "      <td>1.0</td>\n",
              "      <td>4.0</td>\n",
              "      <td>160.0</td>\n",
              "      <td>286.0</td>\n",
              "      <td>0.0</td>\n",
              "      <td>2.0</td>\n",
              "      <td>108.0</td>\n",
              "      <td>1.0</td>\n",
              "      <td>1.5</td>\n",
              "      <td>2.0</td>\n",
              "      <td>3.0</td>\n",
              "      <td>3.0</td>\n",
              "      <td>2</td>\n",
              "    </tr>\n",
              "    <tr>\n",
              "      <th>2</th>\n",
              "      <td>67.0</td>\n",
              "      <td>1.0</td>\n",
              "      <td>4.0</td>\n",
              "      <td>120.0</td>\n",
              "      <td>229.0</td>\n",
              "      <td>0.0</td>\n",
              "      <td>2.0</td>\n",
              "      <td>129.0</td>\n",
              "      <td>1.0</td>\n",
              "      <td>2.6</td>\n",
              "      <td>2.0</td>\n",
              "      <td>2.0</td>\n",
              "      <td>7.0</td>\n",
              "      <td>1</td>\n",
              "    </tr>\n",
              "    <tr>\n",
              "      <th>3</th>\n",
              "      <td>37.0</td>\n",
              "      <td>1.0</td>\n",
              "      <td>3.0</td>\n",
              "      <td>130.0</td>\n",
              "      <td>250.0</td>\n",
              "      <td>0.0</td>\n",
              "      <td>0.0</td>\n",
              "      <td>187.0</td>\n",
              "      <td>0.0</td>\n",
              "      <td>3.5</td>\n",
              "      <td>3.0</td>\n",
              "      <td>0.0</td>\n",
              "      <td>3.0</td>\n",
              "      <td>0</td>\n",
              "    </tr>\n",
              "    <tr>\n",
              "      <th>4</th>\n",
              "      <td>41.0</td>\n",
              "      <td>0.0</td>\n",
              "      <td>2.0</td>\n",
              "      <td>130.0</td>\n",
              "      <td>204.0</td>\n",
              "      <td>0.0</td>\n",
              "      <td>2.0</td>\n",
              "      <td>172.0</td>\n",
              "      <td>0.0</td>\n",
              "      <td>1.4</td>\n",
              "      <td>1.0</td>\n",
              "      <td>0.0</td>\n",
              "      <td>3.0</td>\n",
              "      <td>0</td>\n",
              "    </tr>\n",
              "  </tbody>\n",
              "</table>\n",
              "</div>"
            ],
            "text/plain": [
              "      A    B    C      D      E    F  ...    I    J    K    L    M RESULT\n",
              "0  63.0  1.0  1.0  145.0  233.0  1.0  ...  0.0  2.3  3.0  0.0  6.0      0\n",
              "1  67.0  1.0  4.0  160.0  286.0  0.0  ...  1.0  1.5  2.0  3.0  3.0      2\n",
              "2  67.0  1.0  4.0  120.0  229.0  0.0  ...  1.0  2.6  2.0  2.0  7.0      1\n",
              "3  37.0  1.0  3.0  130.0  250.0  0.0  ...  0.0  3.5  3.0  0.0  3.0      0\n",
              "4  41.0  0.0  2.0  130.0  204.0  0.0  ...  0.0  1.4  1.0  0.0  3.0      0\n",
              "\n",
              "[5 rows x 14 columns]"
            ]
          },
          "metadata": {
            "tags": []
          },
          "execution_count": 4
        }
      ]
    },
    {
      "cell_type": "code",
      "metadata": {
        "id": "4WvADEuVMGus"
      },
      "source": [
        "model = BayesianModel([(\"A\",\"B\"),(\"B\",\"C\"),(\"C\",\"RESULT\")])\n",
        "model.fit(data)"
      ],
      "execution_count": 9,
      "outputs": []
    },
    {
      "cell_type": "code",
      "metadata": {
        "colab": {
          "base_uri": "https://localhost:8080/"
        },
        "id": "NE0Raot3Q7XU",
        "outputId": "c4b0e6a3-ab5d-4311-99b5-24ae78f9d0c7"
      },
      "source": [
        "from pgmpy.inference import VariableElimination\n",
        "infer = VariableElimination(model)\n",
        "q = infer.query(variables=[\"RESULT\"], evidence={\"A\":22})"
      ],
      "execution_count": 10,
      "outputs": [
        {
          "output_type": "stream",
          "text": [
            "/usr/local/lib/python3.7/dist-packages/pgmpy/factors/discrete/DiscreteFactor.py:519: UserWarning: Found unknown state name. Trying to switch to using all state names as state numbers\n",
            "  \"Found unknown state name. Trying to switch to using all state names as state numbers\"\n",
            "Finding Elimination Order: : 100%|██████████| 2/2 [00:00<00:00, 244.67it/s]\n",
            "Eliminating: B: 100%|██████████| 2/2 [00:00<00:00, 207.13it/s]\n"
          ],
          "name": "stderr"
        }
      ]
    },
    {
      "cell_type": "code",
      "metadata": {
        "colab": {
          "base_uri": "https://localhost:8080/"
        },
        "id": "Qit6IzzqRlan",
        "outputId": "aa3dfe6d-b432-47ce-f22b-be7f5dc8b67b"
      },
      "source": [
        "print(q)"
      ],
      "execution_count": 13,
      "outputs": [
        {
          "output_type": "stream",
          "text": [
            "+-----------+---------------+\n",
            "| RESULT    |   phi(RESULT) |\n",
            "+===========+===============+\n",
            "| RESULT(0) |        0.5387 |\n",
            "+-----------+---------------+\n",
            "| RESULT(1) |        0.1824 |\n",
            "+-----------+---------------+\n",
            "| RESULT(2) |        0.1196 |\n",
            "+-----------+---------------+\n",
            "| RESULT(3) |        0.1161 |\n",
            "+-----------+---------------+\n",
            "| RESULT(4) |        0.0433 |\n",
            "+-----------+---------------+\n"
          ],
          "name": "stdout"
        }
      ]
    }
  ]
}