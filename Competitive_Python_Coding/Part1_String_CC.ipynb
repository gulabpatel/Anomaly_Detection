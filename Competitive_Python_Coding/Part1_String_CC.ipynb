{
  "nbformat": 4,
  "nbformat_minor": 0,
  "metadata": {
    "colab": {
      "name": "Part1: String_CC.ipynb",
      "provenance": [],
      "collapsed_sections": [],
      "authorship_tag": "ABX9TyNLpk867c+Y1Q3WCQZB3lO2",
      "include_colab_link": true
    },
    "kernelspec": {
      "name": "python3",
      "display_name": "Python 3"
    }
  },
  "cells": [
    {
      "cell_type": "markdown",
      "metadata": {
        "id": "view-in-github",
        "colab_type": "text"
      },
      "source": [
        "<a href=\"https://colab.research.google.com/github/gulabpatel/Anomaly_Detection_Python/blob/main/Competitive_Python_Coding/Part1_String_CC.ipynb\" target=\"_parent\"><img src=\"https://colab.research.google.com/assets/colab-badge.svg\" alt=\"Open In Colab\"/></a>"
      ]
    },
    {
      "cell_type": "markdown",
      "metadata": {
        "id": "Qb_wvqTsCo_g"
      },
      "source": [
        "#Number Series\n"
      ]
    },
    {
      "cell_type": "markdown",
      "metadata": {
        "id": "3G9CbgoQgLS6"
      },
      "source": [
        "#Q-1. nth term of the following series\n",
        "  1,1,2,3,4,9,8,27,16,81,32,243,.....\n",
        "What is 12th value of the series?"
      ]
    },
    {
      "cell_type": "code",
      "metadata": {
        "colab": {
          "base_uri": "https://localhost:8080/"
        },
        "id": "249eRbVx6SV4",
        "outputId": "80035196-5b88-42f3-a402-6c11255d1777"
      },
      "source": [
        "arr = [1,1,2,4,9,8,27,16,81,32,243]\n",
        "n=11\n",
        "c = []\n",
        "for i in range(1,n+1):\n",
        "  if i%2 !=0:\n",
        "    if i == 1:\n",
        "      a = 1\n",
        "    else:\n",
        "      a = a*2\n",
        "    c.append(a)\n",
        "  else:\n",
        "     if i == 2:\n",
        "       b = 1\n",
        "     else: \n",
        "        b = b*3\n",
        "     c.append(b)\n",
        "c[n-1]"
      ],
      "execution_count": null,
      "outputs": [
        {
          "output_type": "execute_result",
          "data": {
            "text/plain": [
              "32"
            ]
          },
          "metadata": {
            "tags": []
          },
          "execution_count": 1
        }
      ]
    },
    {
      "cell_type": "markdown",
      "metadata": {
        "id": "3qna_4jjgCIN"
      },
      "source": [
        "#Q-2. nth term of the following series \n",
        "0,0,2,1,4,2,6,3,8,4,10,5,12,6,14,7,16,8.....What is 10th element in the series?"
      ]
    },
    {
      "cell_type": "code",
      "metadata": {
        "id": "So3fp-F_TT2l",
        "colab": {
          "base_uri": "https://localhost:8080/"
        },
        "outputId": "8c38ccc9-732c-40f8-ad8b-cd047d7ef64d"
      },
      "source": [
        "n = 10\n",
        "c = []\n",
        "a = 0\n",
        "for i in range(1, n+1):\n",
        "  if i%2 != 0:\n",
        "    if i==1:\n",
        "       a = 0\n",
        "    else:\n",
        "      a = a+2\n",
        "    c.append(a)\n",
        "  else:\n",
        "     b = int(a/2)\n",
        "     c.append(b)\n",
        "print(c)\n",
        "c[n-1]"
      ],
      "execution_count": null,
      "outputs": [
        {
          "output_type": "stream",
          "text": [
            "[0, 0, 2, 1, 4, 2, 6, 3, 8, 4]\n"
          ],
          "name": "stdout"
        },
        {
          "output_type": "execute_result",
          "data": {
            "text/plain": [
              "4"
            ]
          },
          "metadata": {
            "tags": []
          },
          "execution_count": 1
        }
      ]
    },
    {
      "cell_type": "markdown",
      "metadata": {
        "id": "VknhVYF-Rtn7"
      },
      "source": [
        "#Q-3. Decimal to Binary Using Recursion"
      ]
    },
    {
      "cell_type": "code",
      "metadata": {
        "colab": {
          "base_uri": "https://localhost:8080/"
        },
        "id": "nOV4RLhHkqXh",
        "outputId": "61cd366a-5339-4616-c618-e27974530297"
      },
      "source": [
        "def convertToBinary(n):\n",
        "  if n>=1:\n",
        "    convertToBinary(n//2)\n",
        "    print(n%2, end='')\n",
        "n = 35\n",
        "\n",
        "# Driver code  \n",
        "if __name__ == '__main__': \n",
        "   print(convertToBinary(n))"
      ],
      "execution_count": null,
      "outputs": [
        {
          "output_type": "stream",
          "text": [
            "100011None\n"
          ],
          "name": "stdout"
        }
      ]
    },
    {
      "cell_type": "markdown",
      "metadata": {
        "id": "4yPqZQQlac6i"
      },
      "source": [
        "#Q-4. Decimal to Binary, Octal and Hexadecimal"
      ]
    },
    {
      "cell_type": "code",
      "metadata": {
        "colab": {
          "base_uri": "https://localhost:8080/"
        },
        "id": "62Hl0ONsaokh",
        "outputId": "4adf368b-4e32-42cf-b144-66e9ff72b5d2"
      },
      "source": [
        "n = 35\n",
        "print(\"The decimal value of\", n, \"is:\")\n",
        "print(bin(n), \"in binary.\")\n",
        "print(oct(n), \"in octal.\")\n",
        "print(hex(n), \"in hexadecimal.\")\n",
        "\n",
        "print(\"\\nNumber with the prefix 0b is considered binary, 0o is considered octal and 0x as hexadecimal\\n\")\n",
        "\n",
        "print(\"The decimal value of\", n, \"is:\")\n",
        "print(bin(n).replace(\"0b\",\"\"), \"in binary.\")\n",
        "print(oct(n).replace(\"0o\",''), \"in octal.\")\n",
        "print(hex(n).replace(\"0x\",\"\"), \"in hexadecimal.\")"
      ],
      "execution_count": null,
      "outputs": [
        {
          "output_type": "stream",
          "text": [
            "The decimal value of 35 is:\n",
            "0b100011 in binary.\n",
            "0o43 in octal.\n",
            "0x23 in hexadecimal.\n",
            "\n",
            "Number with the prefix 0b is considered binary, 0o is considered octal and 0x as hexadecimal\n",
            "\n",
            "The decimal value of 35 is:\n",
            "100011 in binary.\n",
            "43 in octal.\n",
            "23 in hexadecimal.\n"
          ],
          "name": "stdout"
        }
      ]
    },
    {
      "cell_type": "markdown",
      "metadata": {
        "id": "j4mhDkK5Vc9P"
      },
      "source": [
        "#Q-5. All Prime Numbers in an Interval"
      ]
    },
    {
      "cell_type": "code",
      "metadata": {
        "colab": {
          "base_uri": "https://localhost:8080/"
        },
        "id": "-qNzOd2fURLu",
        "outputId": "9068cf0f-557a-4f45-bf16-ace4081c01df"
      },
      "source": [
        "def allPrime(lower, upper):\n",
        "  for num in range(lower, upper+1):\n",
        "    if num > 1:\n",
        "      for i in range(2,num):\n",
        "        if num % i == 0:\n",
        "          break\n",
        "      else:\n",
        "        print(num)\n",
        "lower = 900\n",
        "upper = 1000\n",
        "allPrime(lower, upper)"
      ],
      "execution_count": null,
      "outputs": [
        {
          "output_type": "stream",
          "text": [
            "907\n",
            "911\n",
            "919\n",
            "929\n",
            "937\n",
            "941\n",
            "947\n",
            "953\n",
            "967\n",
            "971\n",
            "977\n",
            "983\n",
            "991\n",
            "997\n"
          ],
          "name": "stdout"
        }
      ]
    },
    {
      "cell_type": "markdown",
      "metadata": {
        "id": "qKJ8qBEJfvCw"
      },
      "source": [
        "#Q-6. Binary to Decimal"
      ]
    },
    {
      "cell_type": "code",
      "metadata": {
        "colab": {
          "base_uri": "https://localhost:8080/"
        },
        "id": "Cj-0F79EZMBI",
        "outputId": "3dd81e8b-0e41-4159-9c3f-dcef219f8190"
      },
      "source": [
        " def bcdToDecimal():  \n",
        "   b_num = list(input(\"Inter a binary number\"))\n",
        "   value = 0\n",
        "\n",
        "   for i in range(len(b_num)):\n",
        "     n = b_num.pop()\n",
        "     if n == '1':\n",
        "       value = value + pow(2, i)\n",
        "\n",
        "   print(\"The decimal value of the number is\", value)\n",
        "\n",
        "bcdToDecimal()"
      ],
      "execution_count": null,
      "outputs": [
        {
          "output_type": "stream",
          "text": [
            "Inter a binary number1100001\n",
            "The decimal value of the number is 97\n"
          ],
          "name": "stdout"
        }
      ]
    },
    {
      "cell_type": "markdown",
      "metadata": {
        "id": "HssVIjx8TcuB"
      },
      "source": [
        "#Q-6. What is output?\n",
        "\n",
        "Looking at the below code, write down the final values of A0,A1,....,An\n",
        "* A0 = dict(zip(('a','b','c','d','e'),(1,2,3,4,5)))\n",
        "* A1 = range(10)\n",
        "* A2 = sorted([i for i in A1 if i in A0])\n",
        "* A3 = sorted([A0[s] for s in A0])\n",
        "* A4 = [i for i in A1 if i in A3]\n",
        "* A5 = {i:i*i for i in A1}\n",
        "* A6 = [[i,i*i] for i in A1]"
      ]
    },
    {
      "cell_type": "code",
      "metadata": {
        "id": "pSXqF-8rDGB4",
        "colab": {
          "base_uri": "https://localhost:8080/"
        },
        "outputId": "d98466c6-ffe7-439a-dc5b-fa0fe73fc6b9"
      },
      "source": [
        "#Let's do it one by one\n",
        "zp = zip(('a','b','c','d','e'),(1,2,3,4,5))\n",
        "#print(tuple(zp))\n",
        "A0 = dict(zip(('a','b','c','d','e'),(1,2,3,4,5)))\n",
        "print(A0)\n",
        "A1 = range(10)\n",
        "print(A1)\n",
        "A2 = sorted([i for i in A1 if i in A0])\n",
        "print(A2)\n",
        "A3 = sorted([A0[s] for s in A0])\n",
        "print(A3)\n",
        "A4 = [i for i in A1 if i in A3]\n",
        "print(A4)\n",
        "A5 = {i:i*i for i in A1}\n",
        "print(A5)\n",
        "A6 = [[i,i*i] for i in A1]\n",
        "print(A6)\n"
      ],
      "execution_count": null,
      "outputs": [
        {
          "output_type": "stream",
          "text": [
            "{'a': 1, 'b': 2, 'c': 3, 'd': 4, 'e': 5}\n",
            "range(0, 10)\n",
            "[]\n",
            "[1, 2, 3, 4, 5]\n",
            "[1, 2, 3, 4, 5]\n",
            "{0: 0, 1: 1, 2: 4, 3: 9, 4: 16, 5: 25, 6: 36, 7: 49, 8: 64, 9: 81}\n",
            "[[0, 0], [1, 1], [2, 4], [3, 9], [4, 16], [5, 25], [6, 36], [7, 49], [8, 64], [9, 81]]\n"
          ],
          "name": "stdout"
        }
      ]
    },
    {
      "cell_type": "markdown",
      "metadata": {
        "id": "LmrGFI57KGkx"
      },
      "source": [
        "#Q-7. How to get indices of N Maximum Values in a numpy array"
      ]
    },
    {
      "cell_type": "code",
      "metadata": {
        "colab": {
          "base_uri": "https://localhost:8080/"
        },
        "id": "i65pwbtXVMcx",
        "outputId": "4c7441c5-75d4-45f2-f41a-0e22c429024f"
      },
      "source": [
        "import numpy as np\n",
        "arr = np.array([1,3,2,4,5])\n",
        "print(arr.argsort()[-3:])\n",
        "print(arr.argsort()[-3:][ : : -1])"
      ],
      "execution_count": null,
      "outputs": [
        {
          "output_type": "stream",
          "text": [
            "[1 3 4]\n",
            "[4 3 1]\n"
          ],
          "name": "stdout"
        }
      ]
    },
    {
      "cell_type": "markdown",
      "metadata": {
        "id": "b34wq7DMqRxM"
      },
      "source": [
        "#Q-8. DataFrame Filtering\n",
        "\n",
        "How can I subset on a list of values?\n",
        "Like- list_of_values=[3,6], y = df[df['A'] in list_of_values]"
      ]
    },
    {
      "cell_type": "code",
      "metadata": {
        "colab": {
          "base_uri": "https://localhost:8080/",
          "height": 111
        },
        "id": "eQ2z9McMVzKM",
        "outputId": "bc88a7dc-df62-4769-831a-a2bc15f7242d"
      },
      "source": [
        "import pandas as pd\n",
        "df = pd.DataFrame({'A':[5,6,3,4], 'B':[1,2,3,5]})\n",
        "#This is indeed a duplicate of how to filter the dataframe rows of pandas.\n",
        "df[df['A'].isin([3,6])]"
      ],
      "execution_count": null,
      "outputs": [
        {
          "output_type": "execute_result",
          "data": {
            "text/html": [
              "<div>\n",
              "<style scoped>\n",
              "    .dataframe tbody tr th:only-of-type {\n",
              "        vertical-align: middle;\n",
              "    }\n",
              "\n",
              "    .dataframe tbody tr th {\n",
              "        vertical-align: top;\n",
              "    }\n",
              "\n",
              "    .dataframe thead th {\n",
              "        text-align: right;\n",
              "    }\n",
              "</style>\n",
              "<table border=\"1\" class=\"dataframe\">\n",
              "  <thead>\n",
              "    <tr style=\"text-align: right;\">\n",
              "      <th></th>\n",
              "      <th>A</th>\n",
              "      <th>B</th>\n",
              "    </tr>\n",
              "  </thead>\n",
              "  <tbody>\n",
              "    <tr>\n",
              "      <th>1</th>\n",
              "      <td>6</td>\n",
              "      <td>2</td>\n",
              "    </tr>\n",
              "    <tr>\n",
              "      <th>2</th>\n",
              "      <td>3</td>\n",
              "      <td>3</td>\n",
              "    </tr>\n",
              "  </tbody>\n",
              "</table>\n",
              "</div>"
            ],
            "text/plain": [
              "   A  B\n",
              "1  6  2\n",
              "2  3  3"
            ]
          },
          "metadata": {
            "tags": []
          },
          "execution_count": 7
        }
      ]
    },
    {
      "cell_type": "code",
      "metadata": {
        "colab": {
          "base_uri": "https://localhost:8080/",
          "height": 142
        },
        "id": "mQPSkZqwvyAH",
        "outputId": "356bd198-de8b-4f80-c047-4aada7edbaba"
      },
      "source": [
        "import numpy as np\n",
        "df = pd.DataFrame({'A':[5,3,np.nan,4,np.nan], 'B':[np.nan,3,5,np.nan,7]})\n",
        "#Filter the row where B is finite\n",
        "df[np.isfinite(df['B'])]"
      ],
      "execution_count": null,
      "outputs": [
        {
          "output_type": "execute_result",
          "data": {
            "text/html": [
              "<div>\n",
              "<style scoped>\n",
              "    .dataframe tbody tr th:only-of-type {\n",
              "        vertical-align: middle;\n",
              "    }\n",
              "\n",
              "    .dataframe tbody tr th {\n",
              "        vertical-align: top;\n",
              "    }\n",
              "\n",
              "    .dataframe thead th {\n",
              "        text-align: right;\n",
              "    }\n",
              "</style>\n",
              "<table border=\"1\" class=\"dataframe\">\n",
              "  <thead>\n",
              "    <tr style=\"text-align: right;\">\n",
              "      <th></th>\n",
              "      <th>A</th>\n",
              "      <th>B</th>\n",
              "    </tr>\n",
              "  </thead>\n",
              "  <tbody>\n",
              "    <tr>\n",
              "      <th>1</th>\n",
              "      <td>3.0</td>\n",
              "      <td>3.0</td>\n",
              "    </tr>\n",
              "    <tr>\n",
              "      <th>2</th>\n",
              "      <td>NaN</td>\n",
              "      <td>5.0</td>\n",
              "    </tr>\n",
              "    <tr>\n",
              "      <th>4</th>\n",
              "      <td>NaN</td>\n",
              "      <td>7.0</td>\n",
              "    </tr>\n",
              "  </tbody>\n",
              "</table>\n",
              "</div>"
            ],
            "text/plain": [
              "     A    B\n",
              "1  3.0  3.0\n",
              "2  NaN  5.0\n",
              "4  NaN  7.0"
            ]
          },
          "metadata": {
            "tags": []
          },
          "execution_count": 12
        }
      ]
    }
  ]
}