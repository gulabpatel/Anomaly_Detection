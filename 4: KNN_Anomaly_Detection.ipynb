{
  "nbformat": 4,
  "nbformat_minor": 0,
  "metadata": {
    "colab": {
      "name": "4: KNN_Anomaly_Detection.ipynb",
      "provenance": [],
      "authorship_tag": "ABX9TyPX+TMb67g2517lVP36zqV7",
      "include_colab_link": true
    },
    "kernelspec": {
      "name": "python3",
      "display_name": "Python 3"
    },
    "language_info": {
      "name": "python"
    }
  },
  "cells": [
    {
      "cell_type": "markdown",
      "metadata": {
        "id": "view-in-github",
        "colab_type": "text"
      },
      "source": [
        "<a href=\"https://colab.research.google.com/github/gulabpatel/Anomaly_Detection_Python/blob/main/4%3A%20KNN_Anomaly_Detection.ipynb\" target=\"_parent\"><img src=\"https://colab.research.google.com/assets/colab-badge.svg\" alt=\"Open In Colab\"/></a>"
      ]
    },
    {
      "cell_type": "markdown",
      "metadata": {
        "id": "-mlwlfzHkEGf"
      },
      "source": [
        "**Import Libraries**\n",
        "\n"
      ]
    },
    {
      "cell_type": "code",
      "metadata": {
        "id": "SFNdAesDiyka"
      },
      "source": [
        "# import libraries\n",
        "import pandas as pd\n",
        "import numpy as np\n",
        "import matplotlib.pyplot as plt\n",
        "from sklearn.neighbors import NearestNeighbors"
      ],
      "execution_count": 1,
      "outputs": []
    },
    {
      "cell_type": "markdown",
      "metadata": {
        "id": "PMPsEbFJkMKE"
      },
      "source": [
        "**Data preparation**"
      ]
    },
    {
      "cell_type": "code",
      "metadata": {
        "colab": {
          "base_uri": "https://localhost:8080/",
          "height": 359
        },
        "id": "Pw0R8aZHkJ9Y",
        "outputId": "a1474007-f0e3-44b9-c3fb-3ee8be264c1a"
      },
      "source": [
        "# import data\n",
        "data = pd.read_csv(\"https://raw.githubusercontent.com/uiuc-cse/data-fa14/gh-pages/data/iris.csv\")\n",
        "# input data\n",
        "df = data[[\"sepal_length\", \"sepal_width\"]]\n",
        "df.sample(10)"
      ],
      "execution_count": 2,
      "outputs": [
        {
          "output_type": "execute_result",
          "data": {
            "text/html": [
              "<div>\n",
              "<style scoped>\n",
              "    .dataframe tbody tr th:only-of-type {\n",
              "        vertical-align: middle;\n",
              "    }\n",
              "\n",
              "    .dataframe tbody tr th {\n",
              "        vertical-align: top;\n",
              "    }\n",
              "\n",
              "    .dataframe thead th {\n",
              "        text-align: right;\n",
              "    }\n",
              "</style>\n",
              "<table border=\"1\" class=\"dataframe\">\n",
              "  <thead>\n",
              "    <tr style=\"text-align: right;\">\n",
              "      <th></th>\n",
              "      <th>sepal_length</th>\n",
              "      <th>sepal_width</th>\n",
              "    </tr>\n",
              "  </thead>\n",
              "  <tbody>\n",
              "    <tr>\n",
              "      <th>40</th>\n",
              "      <td>5.0</td>\n",
              "      <td>3.5</td>\n",
              "    </tr>\n",
              "    <tr>\n",
              "      <th>89</th>\n",
              "      <td>5.5</td>\n",
              "      <td>2.5</td>\n",
              "    </tr>\n",
              "    <tr>\n",
              "      <th>19</th>\n",
              "      <td>5.1</td>\n",
              "      <td>3.8</td>\n",
              "    </tr>\n",
              "    <tr>\n",
              "      <th>77</th>\n",
              "      <td>6.7</td>\n",
              "      <td>3.0</td>\n",
              "    </tr>\n",
              "    <tr>\n",
              "      <th>13</th>\n",
              "      <td>4.3</td>\n",
              "      <td>3.0</td>\n",
              "    </tr>\n",
              "    <tr>\n",
              "      <th>71</th>\n",
              "      <td>6.1</td>\n",
              "      <td>2.8</td>\n",
              "    </tr>\n",
              "    <tr>\n",
              "      <th>85</th>\n",
              "      <td>6.0</td>\n",
              "      <td>3.4</td>\n",
              "    </tr>\n",
              "    <tr>\n",
              "      <th>24</th>\n",
              "      <td>4.8</td>\n",
              "      <td>3.4</td>\n",
              "    </tr>\n",
              "    <tr>\n",
              "      <th>125</th>\n",
              "      <td>7.2</td>\n",
              "      <td>3.2</td>\n",
              "    </tr>\n",
              "    <tr>\n",
              "      <th>143</th>\n",
              "      <td>6.8</td>\n",
              "      <td>3.2</td>\n",
              "    </tr>\n",
              "  </tbody>\n",
              "</table>\n",
              "</div>"
            ],
            "text/plain": [
              "     sepal_length  sepal_width\n",
              "40            5.0          3.5\n",
              "89            5.5          2.5\n",
              "19            5.1          3.8\n",
              "77            6.7          3.0\n",
              "13            4.3          3.0\n",
              "71            6.1          2.8\n",
              "85            6.0          3.4\n",
              "24            4.8          3.4\n",
              "125           7.2          3.2\n",
              "143           6.8          3.2"
            ]
          },
          "metadata": {
            "tags": []
          },
          "execution_count": 2
        }
      ]
    },
    {
      "cell_type": "code",
      "metadata": {
        "colab": {
          "base_uri": "https://localhost:8080/",
          "height": 285
        },
        "id": "fwKAYrtWkWE9",
        "outputId": "c2376b90-1513-4fba-8345-889ec809b285"
      },
      "source": [
        "# scatterplot of inputs data\n",
        "plt.scatter(df[\"sepal_length\"], df[\"sepal_width\"])"
      ],
      "execution_count": 3,
      "outputs": [
        {
          "output_type": "execute_result",
          "data": {
            "text/plain": [
              "<matplotlib.collections.PathCollection at 0x7ffae52eacd0>"
            ]
          },
          "metadata": {
            "tags": []
          },
          "execution_count": 3
        },
        {
          "output_type": "display_data",
          "data": {
            "image/png": "[encoded data removed]",
            "text/plain": [
              "<Figure size 432x288 with 1 Axes>"
            ]
          },
          "metadata": {
            "tags": [],
            "needs_background": "light"
          }
        }
      ]
    },
    {
      "cell_type": "code",
      "metadata": {
        "id": "xUpmQlhCkaoO"
      },
      "source": [
        "# create arrays\n",
        "X = df.values"
      ],
      "execution_count": 4,
      "outputs": []
    },
    {
      "cell_type": "markdown",
      "metadata": {
        "id": "uOJJfc6Ikhc0"
      },
      "source": [
        "**Modeling**\n",
        "\n",
        "\n",
        "The key parameter in kNN is n_neighbors, which determines the number of neighbors to use for calculating distances from the point of measurement."
      ]
    },
    {
      "cell_type": "code",
      "metadata": {
        "colab": {
          "base_uri": "https://localhost:8080/"
        },
        "id": "aN8FLZo4kebF",
        "outputId": "9c0fab19-d7e1-4da3-e6f6-38dfce82db31"
      },
      "source": [
        "# instantiate model\n",
        "nbrs = NearestNeighbors(n_neighbors = 3)\n",
        "# fit model\n",
        "nbrs.fit(X)"
      ],
      "execution_count": 5,
      "outputs": [
        {
          "output_type": "execute_result",
          "data": {
            "text/plain": [
              "NearestNeighbors(algorithm='auto', leaf_size=30, metric='minkowski',\n",
              "                 metric_params=None, n_jobs=None, n_neighbors=3, p=2,\n",
              "                 radius=1.0)"
            ]
          },
          "metadata": {
            "tags": []
          },
          "execution_count": 5
        }
      ]
    },
    {
      "cell_type": "markdown",
      "metadata": {
        "id": "GugsKWkWk203"
      },
      "source": [
        "**anomaly detection**\n",
        "\n",
        "\n",
        "Now that we have fitted the model, it’s time to extract model outputs—(a) distances between data points and (b) associated index values — that can be used for detecting anomalies."
      ]
    },
    {
      "cell_type": "code",
      "metadata": {
        "colab": {
          "base_uri": "https://localhost:8080/"
        },
        "id": "m-yfOY_bkzd5",
        "outputId": "3a5ed094-ad8b-4181-f860-af1ef76def1c"
      },
      "source": [
        "# distances and indexes of k-neaighbors from model outputs\n",
        "distances, indexes = nbrs.kneighbors(X)\n",
        "distances, indexes"
      ],
      "execution_count": 6,
      "outputs": [
        {
          "output_type": "execute_result",
          "data": {
            "text/plain": [
              "(array([[0.        , 0.        , 0.1       ],\n",
              "        [0.        , 0.1       , 0.1       ],\n",
              "        [0.        , 0.        , 0.1       ],\n",
              "        [0.        , 0.1       , 0.14142136],\n",
              "        [0.        , 0.1       , 0.1       ],\n",
              "        [0.        , 0.        , 0.2       ],\n",
              "        [0.        , 0.2       , 0.2       ],\n",
              "        [0.        , 0.        , 0.1       ],\n",
              "        [0.        , 0.1       , 0.14142136],\n",
              "        [0.        , 0.        , 0.        ],\n",
              "        [0.        , 0.1       , 0.2       ],\n",
              "        [0.        , 0.        , 0.2       ],\n",
              "        [0.        , 0.        , 0.1       ],\n",
              "        [0.        , 0.1       , 0.14142136],\n",
              "        [0.        , 0.2236068 , 0.36055513],\n",
              "        [0.        , 0.28284271, 0.41231056],\n",
              "        [0.        , 0.        , 0.2       ],\n",
              "        [0.        , 0.        , 0.1       ],\n",
              "        [0.        , 0.2236068 , 0.31622777],\n",
              "        [0.        , 0.        , 0.        ],\n",
              "        [0.        , 0.        , 0.14142136],\n",
              "        [0.        , 0.1       , 0.1       ],\n",
              "        [0.        , 0.2       , 0.28284271],\n",
              "        [0.        , 0.1       , 0.1       ],\n",
              "        [0.        , 0.        , 0.2       ],\n",
              "        [0.        , 0.1       , 0.14142136],\n",
              "        [0.        , 0.        , 0.1       ],\n",
              "        [0.        , 0.1       , 0.1       ],\n",
              "        [0.        , 0.1       , 0.1       ],\n",
              "        [0.        , 0.        , 0.1       ],\n",
              "        [0.        , 0.1       , 0.1       ],\n",
              "        [0.        , 0.        , 0.14142136],\n",
              "        [0.        , 0.28284271, 0.28284271],\n",
              "        [0.        , 0.28284271, 0.31622777],\n",
              "        [0.        , 0.        , 0.        ],\n",
              "        [0.        , 0.1       , 0.14142136],\n",
              "        [0.        , 0.14142136, 0.14142136],\n",
              "        [0.        , 0.        , 0.        ],\n",
              "        [0.        , 0.1       , 0.1       ],\n",
              "        [0.        , 0.1       , 0.1       ],\n",
              "        [0.        , 0.        , 0.1       ],\n",
              "        [0.        , 0.41231056, 0.4472136 ],\n",
              "        [0.        , 0.2       , 0.2       ],\n",
              "        [0.        , 0.        , 0.1       ],\n",
              "        [0.        , 0.        , 0.        ],\n",
              "        [0.        , 0.        , 0.1       ],\n",
              "        [0.        , 0.        , 0.        ],\n",
              "        [0.        , 0.1       , 0.1       ],\n",
              "        [0.        , 0.1       , 0.2       ],\n",
              "        [0.        , 0.1       , 0.1       ],\n",
              "        [0.        , 0.1       , 0.14142136],\n",
              "        [0.        , 0.        , 0.1       ],\n",
              "        [0.        , 0.        , 0.        ],\n",
              "        [0.        , 0.1       , 0.1       ],\n",
              "        [0.        , 0.1       , 0.1       ],\n",
              "        [0.        , 0.        , 0.1       ],\n",
              "        [0.        , 0.        , 0.1       ],\n",
              "        [0.        , 0.1       , 0.14142136],\n",
              "        [0.        , 0.1       , 0.14142136],\n",
              "        [0.        , 0.2236068 , 0.31622777],\n",
              "        [0.        , 0.3       , 0.41231056],\n",
              "        [0.        , 0.        , 0.1       ],\n",
              "        [0.        , 0.        , 0.2       ],\n",
              "        [0.        , 0.1       , 0.1       ],\n",
              "        [0.        , 0.1       , 0.1       ],\n",
              "        [0.        , 0.        , 0.        ],\n",
              "        [0.        , 0.        , 0.1       ],\n",
              "        [0.        , 0.        , 0.        ],\n",
              "        [0.        , 0.14142136, 0.2       ],\n",
              "        [0.        , 0.1       , 0.1       ],\n",
              "        [0.        , 0.2       , 0.2       ],\n",
              "        [0.        , 0.        , 0.1       ],\n",
              "        [0.        , 0.        , 0.2       ],\n",
              "        [0.        , 0.        , 0.1       ],\n",
              "        [0.        , 0.1       , 0.1       ],\n",
              "        [0.        , 0.1       , 0.1       ],\n",
              "        [0.        , 0.2       , 0.2236068 ],\n",
              "        [0.        , 0.        , 0.1       ],\n",
              "        [0.        , 0.1       , 0.1       ],\n",
              "        [0.        , 0.1       , 0.1       ],\n",
              "        [0.        , 0.        , 0.1       ],\n",
              "        [0.        , 0.        , 0.1       ],\n",
              "        [0.        , 0.        , 0.        ],\n",
              "        [0.        , 0.14142136, 0.14142136],\n",
              "        [0.        , 0.2       , 0.2       ],\n",
              "        [0.        , 0.2       , 0.2236068 ],\n",
              "        [0.        , 0.        , 0.        ],\n",
              "        [0.        , 0.14142136, 0.2       ],\n",
              "        [0.        , 0.        , 0.1       ],\n",
              "        [0.        , 0.1       , 0.1       ],\n",
              "        [0.        , 0.1       , 0.14142136],\n",
              "        [0.        , 0.        , 0.1       ],\n",
              "        [0.        , 0.1       , 0.1       ],\n",
              "        [0.        , 0.14142136, 0.2236068 ],\n",
              "        [0.        , 0.1       , 0.14142136],\n",
              "        [0.        , 0.1       , 0.1       ],\n",
              "        [0.        , 0.1       , 0.1       ],\n",
              "        [0.        , 0.1       , 0.1       ],\n",
              "        [0.        , 0.2       , 0.2236068 ],\n",
              "        [0.        , 0.        , 0.1       ],\n",
              "        [0.        , 0.        , 0.1       ],\n",
              "        [0.        , 0.        , 0.        ],\n",
              "        [0.        , 0.1       , 0.2236068 ],\n",
              "        [0.        , 0.1       , 0.1       ],\n",
              "        [0.        , 0.        , 0.        ],\n",
              "        [0.        , 0.1       , 0.2236068 ],\n",
              "        [0.        , 0.1       , 0.2       ],\n",
              "        [0.        , 0.14142136, 0.14142136],\n",
              "        [0.        , 0.31622777, 0.36055513],\n",
              "        [0.        , 0.4       , 0.4472136 ],\n",
              "        [0.        , 0.1       , 0.1       ],\n",
              "        [0.        , 0.1       , 0.1       ],\n",
              "        [0.        , 0.1       , 0.1       ],\n",
              "        [0.        , 0.1       , 0.1       ],\n",
              "        [0.        , 0.1       , 0.1       ],\n",
              "        [0.        , 0.        , 0.1       ],\n",
              "        [0.        , 0.        , 0.        ],\n",
              "        [0.        , 0.2       , 0.53851648],\n",
              "        [0.        , 0.2       , 0.36055513],\n",
              "        [0.        , 0.        , 0.2       ],\n",
              "        [0.        , 0.1       , 0.1       ],\n",
              "        [0.        , 0.1       , 0.1       ],\n",
              "        [0.        , 0.2       , 0.2       ],\n",
              "        [0.        , 0.1       , 0.1       ],\n",
              "        [0.        , 0.        , 0.14142136],\n",
              "        [0.        , 0.2       , 0.2       ],\n",
              "        [0.        , 0.1       , 0.1       ],\n",
              "        [0.        , 0.        , 0.1       ],\n",
              "        [0.        , 0.        , 0.1       ],\n",
              "        [0.        , 0.1       , 0.14142136],\n",
              "        [0.        , 0.14142136, 0.28284271],\n",
              "        [0.        , 0.2       , 0.72801099],\n",
              "        [0.        , 0.        , 0.1       ],\n",
              "        [0.        , 0.1       , 0.1       ],\n",
              "        [0.        , 0.14142136, 0.2       ],\n",
              "        [0.        , 0.1       , 0.2       ],\n",
              "        [0.        , 0.1       , 0.1       ],\n",
              "        [0.        , 0.1       , 0.1       ],\n",
              "        [0.        , 0.1       , 0.1       ],\n",
              "        [0.        , 0.        , 0.        ],\n",
              "        [0.        , 0.        , 0.        ],\n",
              "        [0.        , 0.        , 0.        ],\n",
              "        [0.        , 0.        , 0.        ],\n",
              "        [0.        , 0.1       , 0.14142136],\n",
              "        [0.        , 0.        , 0.14142136],\n",
              "        [0.        , 0.        , 0.1       ],\n",
              "        [0.        , 0.        , 0.2       ],\n",
              "        [0.        , 0.        , 0.        ],\n",
              "        [0.        , 0.1       , 0.14142136],\n",
              "        [0.        , 0.        , 0.1       ]]), array([[ 17,   0,  40],\n",
              "        [  1,  25,  37],\n",
              "        [  2,  29,  47],\n",
              "        [  3,  47,  29],\n",
              "        [  4,  43,  40],\n",
              "        [ 16,   5,  10],\n",
              "        [  6,  47,  22],\n",
              "        [  7,  26,  39],\n",
              "        [  8,  38,  13],\n",
              "        [  9,  34,  37],\n",
              "        [ 10,  48,  16],\n",
              "        [ 11,  24,   6],\n",
              "        [ 45,  12,  30],\n",
              "        [ 13,  38,   8],\n",
              "        [ 14,  18,  33],\n",
              "        [ 15,  33,  14],\n",
              "        [ 16,   5,  10],\n",
              "        [ 17,   0,  40],\n",
              "        [ 18,  14,  10],\n",
              "        [ 44,  46,  19],\n",
              "        [ 31,  20,  36],\n",
              "        [ 21,  46,  19],\n",
              "        [ 22,   6,  11],\n",
              "        [ 23,  49,  39],\n",
              "        [ 11,  24,   6],\n",
              "        [ 25,   1,  37],\n",
              "        [  7,  26,  39],\n",
              "        [ 27,  28,   0],\n",
              "        [ 28,  27,  39],\n",
              "        [  2,  29,  47],\n",
              "        [ 30,  45,  12],\n",
              "        [ 31,  20,  36],\n",
              "        [ 32,  16,   5],\n",
              "        [ 33,  15,  32],\n",
              "        [  9,  34,  37],\n",
              "        [ 35,  49,  23],\n",
              "        [ 36,  20,  31],\n",
              "        [  9,  34,  37],\n",
              "        [ 38,   8,  13],\n",
              "        [ 39,  26,   7],\n",
              "        [ 40,  43,  17],\n",
              "        [ 41,  57, 106],\n",
              "        [ 42,  47,  38],\n",
              "        [ 40,  43,  17],\n",
              "        [ 44,  46,  19],\n",
              "        [ 45,  12,  30],\n",
              "        [ 44,  46,  19],\n",
              "        [ 47,   3,  29],\n",
              "        [ 48,  10,  21],\n",
              "        [ 49,  23,  35],\n",
              "        [ 50, 120, 139],\n",
              "        [115,  51, 110],\n",
              "        [ 52, 139, 141],\n",
              "        [ 53,  81,  80],\n",
              "        [ 54, 128, 132],\n",
              "        [ 99,  55, 114],\n",
              "        [ 56, 100, 136],\n",
              "        [ 57, 106,  93],\n",
              "        [ 58,  75, 116],\n",
              "        [ 59,  98,  90],\n",
              "        [ 60,  93,  57],\n",
              "        [149,  61, 138],\n",
              "        [ 62, 119,  68],\n",
              "        [ 63,  78,  91],\n",
              "        [ 64,  66, 121],\n",
              "        [140,  86,  65],\n",
              "        [ 88,  66,  64],\n",
              "        [101,  82, 142],\n",
              "        [ 68,  87, 119],\n",
              "        [ 69,  89, 113],\n",
              "        [ 70, 149,  61],\n",
              "        [ 71,  73,  63],\n",
              "        [ 72, 146,  87],\n",
              "        [ 71,  73,  63],\n",
              "        [ 74, 128, 132],\n",
              "        [ 75, 104, 116],\n",
              "        [ 76, 112, 145],\n",
              "        [ 77, 145, 112],\n",
              "        [ 78,  63, 138],\n",
              "        [ 79,  92, 113],\n",
              "        [ 80,  81,  53],\n",
              "        [ 80,  81,  53],\n",
              "        [101,  82, 142],\n",
              "        [ 83,  73,  71],\n",
              "        [ 84,  88,  66],\n",
              "        [ 85, 148,  70],\n",
              "        [140,  86,  65],\n",
              "        [ 87,  68,  72],\n",
              "        [ 88,  66,  64],\n",
              "        [ 89,  69,  80],\n",
              "        [ 90,  89,  69],\n",
              "        [127,  91, 138],\n",
              "        [ 92,  79,  82],\n",
              "        [ 93,  57,  98],\n",
              "        [ 94, 121,  90],\n",
              "        [ 95,  96,  66],\n",
              "        [ 96,  99,  55],\n",
              "        [ 97, 103, 126],\n",
              "        [ 98, 106,  57],\n",
              "        [ 99,  55, 114],\n",
              "        [ 56, 100, 136],\n",
              "        [101,  82, 142],\n",
              "        [102, 129, 139],\n",
              "        [103,  97, 133],\n",
              "        [147, 104, 116],\n",
              "        [105, 135, 122],\n",
              "        [106,  57,  98],\n",
              "        [107, 129, 130],\n",
              "        [108,  76,  54],\n",
              "        [109, 125,  50],\n",
              "        [110,  51, 115],\n",
              "        [111, 128, 132],\n",
              "        [112,  77, 145],\n",
              "        [113,  79,  69],\n",
              "        [114,  82, 142],\n",
              "        [115,  51, 110],\n",
              "        [147, 104, 116],\n",
              "        [117, 131, 109],\n",
              "        [118, 122, 130],\n",
              "        [ 62, 119,  68],\n",
              "        [120,  50, 139],\n",
              "        [121,  94,  64],\n",
              "        [122, 118, 135],\n",
              "        [123, 133, 111],\n",
              "        [124, 144, 143],\n",
              "        [125,  50, 129],\n",
              "        [126, 133,  97],\n",
              "        [127,  91, 138],\n",
              "        [132, 128, 111],\n",
              "        [129, 102, 107],\n",
              "        [130, 107, 105],\n",
              "        [131, 117, 109],\n",
              "        [132, 128, 111],\n",
              "        [133, 126, 123],\n",
              "        [134,  83,  71],\n",
              "        [135, 105, 122],\n",
              "        [136, 148, 100],\n",
              "        [137, 115,  51],\n",
              "        [138, 149,  61],\n",
              "        [ 52, 139, 141],\n",
              "        [140,  86,  65],\n",
              "        [ 52, 139, 141],\n",
              "        [101,  82, 142],\n",
              "        [143, 120, 124],\n",
              "        [124, 144, 143],\n",
              "        [ 77, 145, 112],\n",
              "        [ 72, 146,  87],\n",
              "        [147, 104, 116],\n",
              "        [148, 136, 100],\n",
              "        [149,  61, 138]]))"
            ]
          },
          "metadata": {
            "tags": []
          },
          "execution_count": 6
        }
      ]
    },
    {
      "cell_type": "code",
      "metadata": {
        "colab": {
          "base_uri": "https://localhost:8080/",
          "height": 282
        },
        "id": "1MX2WOiRuI0y",
        "outputId": "b4e6648d-208f-491f-9b81-6663ca3d4fed"
      },
      "source": [
        "# plot mean of k-distances of each observation\n",
        "plt.plot(distances.mean(axis =1))"
      ],
      "execution_count": 7,
      "outputs": [
        {
          "output_type": "execute_result",
          "data": {
            "text/plain": [
              "[<matplotlib.lines.Line2D at 0x7ffae4d6ffd0>]"
            ]
          },
          "metadata": {
            "tags": []
          },
          "execution_count": 7
        },
        {
          "output_type": "display_data",
          "data": {
            "image/png": "[encoded data removed]",
            "text/plain": [
              "<Figure size 432x288 with 1 Axes>"
            ]
          },
          "metadata": {
            "tags": [],
            "needs_background": "light"
          }
        }
      ]
    },
    {
      "cell_type": "markdown",
      "metadata": {
        "id": "E1XGy6vYvA2o"
      },
      "source": [
        "As we can see, there are some spikes in distance measures, and these spikes are potentially anomalies or outliers in the dataset.\n",
        "Now comes one of the most important decisions for data scientists — determining the cutoff value to filter anomalies.\n",
        "As we see in the figure above, some cutoff possibilities are — 0.25, 0.20, 0.15 (y-axis), each filtering a progressively higher number of outliers.\n",
        "For this demo, let’s be generous and choose 0.15 as the cutoff to get more outliers. The reason for being generous is to be able to further examine the data so we are not missing outlier."
      ]
    },
    {
      "cell_type": "code",
      "metadata": {
        "colab": {
          "base_uri": "https://localhost:8080/"
        },
        "id": "JbtLHVHPuWrg",
        "outputId": "9991d85f-7aa7-4e75-d22b-454f18fe7567"
      },
      "source": [
        "# visually determine cutoff values > 0.15\n",
        "outlier_index = np.where(distances.mean(axis = 1) > 0.15)\n",
        "outlier_index"
      ],
      "execution_count": 8,
      "outputs": [
        {
          "output_type": "execute_result",
          "data": {
            "text/plain": [
              "(array([ 14,  15,  18,  22,  32,  33,  41,  59,  60, 108, 109, 117, 118,\n",
              "        131]),)"
            ]
          },
          "metadata": {
            "tags": []
          },
          "execution_count": 8
        }
      ]
    },
    {
      "cell_type": "code",
      "metadata": {
        "colab": {
          "base_uri": "https://localhost:8080/",
          "height": 483
        },
        "id": "E1DwNwMCvGnu",
        "outputId": "f006403b-b049-4b67-c32a-9ab6da66655c"
      },
      "source": [
        "# filter outlier values\n",
        "outlier_values = df.iloc[outlier_index]\n",
        "outlier_values"
      ],
      "execution_count": 9,
      "outputs": [
        {
          "output_type": "execute_result",
          "data": {
            "text/html": [
              "<div>\n",
              "<style scoped>\n",
              "    .dataframe tbody tr th:only-of-type {\n",
              "        vertical-align: middle;\n",
              "    }\n",
              "\n",
              "    .dataframe tbody tr th {\n",
              "        vertical-align: top;\n",
              "    }\n",
              "\n",
              "    .dataframe thead th {\n",
              "        text-align: right;\n",
              "    }\n",
              "</style>\n",
              "<table border=\"1\" class=\"dataframe\">\n",
              "  <thead>\n",
              "    <tr style=\"text-align: right;\">\n",
              "      <th></th>\n",
              "      <th>sepal_length</th>\n",
              "      <th>sepal_width</th>\n",
              "    </tr>\n",
              "  </thead>\n",
              "  <tbody>\n",
              "    <tr>\n",
              "      <th>14</th>\n",
              "      <td>5.8</td>\n",
              "      <td>4.0</td>\n",
              "    </tr>\n",
              "    <tr>\n",
              "      <th>15</th>\n",
              "      <td>5.7</td>\n",
              "      <td>4.4</td>\n",
              "    </tr>\n",
              "    <tr>\n",
              "      <th>18</th>\n",
              "      <td>5.7</td>\n",
              "      <td>3.8</td>\n",
              "    </tr>\n",
              "    <tr>\n",
              "      <th>22</th>\n",
              "      <td>4.6</td>\n",
              "      <td>3.6</td>\n",
              "    </tr>\n",
              "    <tr>\n",
              "      <th>32</th>\n",
              "      <td>5.2</td>\n",
              "      <td>4.1</td>\n",
              "    </tr>\n",
              "    <tr>\n",
              "      <th>33</th>\n",
              "      <td>5.5</td>\n",
              "      <td>4.2</td>\n",
              "    </tr>\n",
              "    <tr>\n",
              "      <th>41</th>\n",
              "      <td>4.5</td>\n",
              "      <td>2.3</td>\n",
              "    </tr>\n",
              "    <tr>\n",
              "      <th>59</th>\n",
              "      <td>5.2</td>\n",
              "      <td>2.7</td>\n",
              "    </tr>\n",
              "    <tr>\n",
              "      <th>60</th>\n",
              "      <td>5.0</td>\n",
              "      <td>2.0</td>\n",
              "    </tr>\n",
              "    <tr>\n",
              "      <th>108</th>\n",
              "      <td>6.7</td>\n",
              "      <td>2.5</td>\n",
              "    </tr>\n",
              "    <tr>\n",
              "      <th>109</th>\n",
              "      <td>7.2</td>\n",
              "      <td>3.6</td>\n",
              "    </tr>\n",
              "    <tr>\n",
              "      <th>117</th>\n",
              "      <td>7.7</td>\n",
              "      <td>3.8</td>\n",
              "    </tr>\n",
              "    <tr>\n",
              "      <th>118</th>\n",
              "      <td>7.7</td>\n",
              "      <td>2.6</td>\n",
              "    </tr>\n",
              "    <tr>\n",
              "      <th>131</th>\n",
              "      <td>7.9</td>\n",
              "      <td>3.8</td>\n",
              "    </tr>\n",
              "  </tbody>\n",
              "</table>\n",
              "</div>"
            ],
            "text/plain": [
              "     sepal_length  sepal_width\n",
              "14            5.8          4.0\n",
              "15            5.7          4.4\n",
              "18            5.7          3.8\n",
              "22            4.6          3.6\n",
              "32            5.2          4.1\n",
              "33            5.5          4.2\n",
              "41            4.5          2.3\n",
              "59            5.2          2.7\n",
              "60            5.0          2.0\n",
              "108           6.7          2.5\n",
              "109           7.2          3.6\n",
              "117           7.7          3.8\n",
              "118           7.7          2.6\n",
              "131           7.9          3.8"
            ]
          },
          "metadata": {
            "tags": []
          },
          "execution_count": 9
        }
      ]
    },
    {
      "cell_type": "markdown",
      "metadata": {
        "id": "upSGCcnavNoO"
      },
      "source": [
        "**Plotting anomalies**\n"
      ]
    },
    {
      "cell_type": "code",
      "metadata": {
        "colab": {
          "base_uri": "https://localhost:8080/",
          "height": 285
        },
        "id": "dM8omao3vKNz",
        "outputId": "0d1889b3-0c1d-481d-85b6-35d65096a525"
      },
      "source": [
        "# plot data\n",
        "plt.scatter(df[\"sepal_length\"], df[\"sepal_width\"], color = \"b\", s = 65)\n",
        "# plot outlier values\n",
        "plt.scatter(outlier_values[\"sepal_length\"], outlier_values[\"sepal_width\"], color = \"r\")"
      ],
      "execution_count": 10,
      "outputs": [
        {
          "output_type": "execute_result",
          "data": {
            "text/plain": [
              "<matplotlib.collections.PathCollection at 0x7ffae4cf7e50>"
            ]
          },
          "metadata": {
            "tags": []
          },
          "execution_count": 10
        },
        {
          "output_type": "display_data",
          "data": {
            "image/png": "[encoded data removed]",
            "text/plain": [
              "<Figure size 432x288 with 1 Axes>"
            ]
          },
          "metadata": {
            "tags": [],
            "needs_background": "light"
          }
        }
      ]
    },
    {
      "cell_type": "markdown",
      "metadata": {
        "id": "zjzGeGH91yHH"
      },
      "source": [
        "A real-world implementation would require much more experimentation to find out what works and what doesn’t for a particular context and industry. A step further to examine and re-examine the filter data points to double-check with other tools or domain experts."
      ]
    }
  ]
}